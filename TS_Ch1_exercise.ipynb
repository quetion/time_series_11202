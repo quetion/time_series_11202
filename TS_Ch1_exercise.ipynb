{
  "cells": [
    {
      "cell_type": "markdown",
      "metadata": {
        "id": "view-in-github",
        "colab_type": "text"
      },
      "source": [
        "<a href=\"https://colab.research.google.com/github/quetion/time_series_11202/blob/main/TS_Ch1_exercise.ipynb\" target=\"_parent\"><img src=\"https://colab.research.google.com/assets/colab-badge.svg\" alt=\"Open In Colab\"/></a>"
      ]
    },
    {
      "cell_type": "code",
      "execution_count": 2,
      "metadata": {
        "id": "pmqU8owNsisA"
      },
      "outputs": [],
      "source": [
        "import numpy as np\n",
        "import pandas as pd\n",
        "import matplotlib.pyplot as plt\n",
        "import yfinance as yf\n",
        "import statsmodels.api as sm\n",
        "# test"
      ]
    },
    {
      "cell_type": "markdown",
      "source": [
        "# 建立報酬率\n",
        "- 下載資料\n",
        "- 理解資料欄位\n",
        "- 整理資料\n",
        "- 建立報酬率變數"
      ],
      "metadata": {
        "id": "KjO9tkG-wg23"
      }
    },
    {
      "cell_type": "code",
      "source": [
        "# download data\n",
        "# For S&P 500 index\n",
        "data = yf.download('^gspc')\n",
        "data.head().round(3)\n",
        "# clean data\n",
        "data = data['2020':]\n",
        "data = data[['Adj Close']]\n",
        "data.columns = ['price_spx']\n",
        "data.head().round(3)\n",
        "# how to obtain return\n",
        "# percentage return\n",
        "data['ret_spx'] = data.price_spx.pct_change()\n",
        "data.head().round(3)\n",
        "data['ret_spx'] = np.log(data.price_spx).diff()\n",
        "data.head().round(3)"
      ],
      "metadata": {
        "colab": {
          "base_uri": "https://localhost:8080/",
          "height": 255
        },
        "id": "NIOly1RrwgFj",
        "outputId": "687fcb80-a19e-458a-aad6-5facb89ee15b"
      },
      "execution_count": 8,
      "outputs": [
        {
          "output_type": "stream",
          "name": "stderr",
          "text": [
            "\r[*********************100%%**********************]  1 of 1 completed\n"
          ]
        },
        {
          "output_type": "execute_result",
          "data": {
            "text/plain": [
              "            price_spx  ret_spx\n",
              "Date                          \n",
              "2020-01-02    3257.85      NaN\n",
              "2020-01-03    3234.85   -0.007\n",
              "2020-01-06    3246.28    0.004\n",
              "2020-01-07    3237.18   -0.003\n",
              "2020-01-08    3253.05    0.005"
            ],
            "text/html": [
              "\n",
              "  <div id=\"df-081246db-0ae5-4c31-b5f7-c1f2cc5b5c34\" class=\"colab-df-container\">\n",
              "    <div>\n",
              "<style scoped>\n",
              "    .dataframe tbody tr th:only-of-type {\n",
              "        vertical-align: middle;\n",
              "    }\n",
              "\n",
              "    .dataframe tbody tr th {\n",
              "        vertical-align: top;\n",
              "    }\n",
              "\n",
              "    .dataframe thead th {\n",
              "        text-align: right;\n",
              "    }\n",
              "</style>\n",
              "<table border=\"1\" class=\"dataframe\">\n",
              "  <thead>\n",
              "    <tr style=\"text-align: right;\">\n",
              "      <th></th>\n",
              "      <th>price_spx</th>\n",
              "      <th>ret_spx</th>\n",
              "    </tr>\n",
              "    <tr>\n",
              "      <th>Date</th>\n",
              "      <th></th>\n",
              "      <th></th>\n",
              "    </tr>\n",
              "  </thead>\n",
              "  <tbody>\n",
              "    <tr>\n",
              "      <th>2020-01-02</th>\n",
              "      <td>3257.85</td>\n",
              "      <td>NaN</td>\n",
              "    </tr>\n",
              "    <tr>\n",
              "      <th>2020-01-03</th>\n",
              "      <td>3234.85</td>\n",
              "      <td>-0.007</td>\n",
              "    </tr>\n",
              "    <tr>\n",
              "      <th>2020-01-06</th>\n",
              "      <td>3246.28</td>\n",
              "      <td>0.004</td>\n",
              "    </tr>\n",
              "    <tr>\n",
              "      <th>2020-01-07</th>\n",
              "      <td>3237.18</td>\n",
              "      <td>-0.003</td>\n",
              "    </tr>\n",
              "    <tr>\n",
              "      <th>2020-01-08</th>\n",
              "      <td>3253.05</td>\n",
              "      <td>0.005</td>\n",
              "    </tr>\n",
              "  </tbody>\n",
              "</table>\n",
              "</div>\n",
              "    <div class=\"colab-df-buttons\">\n",
              "\n",
              "  <div class=\"colab-df-container\">\n",
              "    <button class=\"colab-df-convert\" onclick=\"convertToInteractive('df-081246db-0ae5-4c31-b5f7-c1f2cc5b5c34')\"\n",
              "            title=\"Convert this dataframe to an interactive table.\"\n",
              "            style=\"display:none;\">\n",
              "\n",
              "  <svg xmlns=\"http://www.w3.org/2000/svg\" height=\"24px\" viewBox=\"0 -960 960 960\">\n",
              "    <path d=\"M120-120v-720h720v720H120Zm60-500h600v-160H180v160Zm220 220h160v-160H400v160Zm0 220h160v-160H400v160ZM180-400h160v-160H180v160Zm440 0h160v-160H620v160ZM180-180h160v-160H180v160Zm440 0h160v-160H620v160Z\"/>\n",
              "  </svg>\n",
              "    </button>\n",
              "\n",
              "  <style>\n",
              "    .colab-df-container {\n",
              "      display:flex;\n",
              "      gap: 12px;\n",
              "    }\n",
              "\n",
              "    .colab-df-convert {\n",
              "      background-color: #E8F0FE;\n",
              "      border: none;\n",
              "      border-radius: 50%;\n",
              "      cursor: pointer;\n",
              "      display: none;\n",
              "      fill: #1967D2;\n",
              "      height: 32px;\n",
              "      padding: 0 0 0 0;\n",
              "      width: 32px;\n",
              "    }\n",
              "\n",
              "    .colab-df-convert:hover {\n",
              "      background-color: #E2EBFA;\n",
              "      box-shadow: 0px 1px 2px rgba(60, 64, 67, 0.3), 0px 1px 3px 1px rgba(60, 64, 67, 0.15);\n",
              "      fill: #174EA6;\n",
              "    }\n",
              "\n",
              "    .colab-df-buttons div {\n",
              "      margin-bottom: 4px;\n",
              "    }\n",
              "\n",
              "    [theme=dark] .colab-df-convert {\n",
              "      background-color: #3B4455;\n",
              "      fill: #D2E3FC;\n",
              "    }\n",
              "\n",
              "    [theme=dark] .colab-df-convert:hover {\n",
              "      background-color: #434B5C;\n",
              "      box-shadow: 0px 1px 3px 1px rgba(0, 0, 0, 0.15);\n",
              "      filter: drop-shadow(0px 1px 2px rgba(0, 0, 0, 0.3));\n",
              "      fill: #FFFFFF;\n",
              "    }\n",
              "  </style>\n",
              "\n",
              "    <script>\n",
              "      const buttonEl =\n",
              "        document.querySelector('#df-081246db-0ae5-4c31-b5f7-c1f2cc5b5c34 button.colab-df-convert');\n",
              "      buttonEl.style.display =\n",
              "        google.colab.kernel.accessAllowed ? 'block' : 'none';\n",
              "\n",
              "      async function convertToInteractive(key) {\n",
              "        const element = document.querySelector('#df-081246db-0ae5-4c31-b5f7-c1f2cc5b5c34');\n",
              "        const dataTable =\n",
              "          await google.colab.kernel.invokeFunction('convertToInteractive',\n",
              "                                                    [key], {});\n",
              "        if (!dataTable) return;\n",
              "\n",
              "        const docLinkHtml = 'Like what you see? Visit the ' +\n",
              "          '<a target=\"_blank\" href=https://colab.research.google.com/notebooks/data_table.ipynb>data table notebook</a>'\n",
              "          + ' to learn more about interactive tables.';\n",
              "        element.innerHTML = '';\n",
              "        dataTable['output_type'] = 'display_data';\n",
              "        await google.colab.output.renderOutput(dataTable, element);\n",
              "        const docLink = document.createElement('div');\n",
              "        docLink.innerHTML = docLinkHtml;\n",
              "        element.appendChild(docLink);\n",
              "      }\n",
              "    </script>\n",
              "  </div>\n",
              "\n",
              "\n",
              "<div id=\"df-7321a1d4-9f6e-404f-bc94-3827d7b868e3\">\n",
              "  <button class=\"colab-df-quickchart\" onclick=\"quickchart('df-7321a1d4-9f6e-404f-bc94-3827d7b868e3')\"\n",
              "            title=\"Suggest charts\"\n",
              "            style=\"display:none;\">\n",
              "\n",
              "<svg xmlns=\"http://www.w3.org/2000/svg\" height=\"24px\"viewBox=\"0 0 24 24\"\n",
              "     width=\"24px\">\n",
              "    <g>\n",
              "        <path d=\"M19 3H5c-1.1 0-2 .9-2 2v14c0 1.1.9 2 2 2h14c1.1 0 2-.9 2-2V5c0-1.1-.9-2-2-2zM9 17H7v-7h2v7zm4 0h-2V7h2v10zm4 0h-2v-4h2v4z\"/>\n",
              "    </g>\n",
              "</svg>\n",
              "  </button>\n",
              "\n",
              "<style>\n",
              "  .colab-df-quickchart {\n",
              "      --bg-color: #E8F0FE;\n",
              "      --fill-color: #1967D2;\n",
              "      --hover-bg-color: #E2EBFA;\n",
              "      --hover-fill-color: #174EA6;\n",
              "      --disabled-fill-color: #AAA;\n",
              "      --disabled-bg-color: #DDD;\n",
              "  }\n",
              "\n",
              "  [theme=dark] .colab-df-quickchart {\n",
              "      --bg-color: #3B4455;\n",
              "      --fill-color: #D2E3FC;\n",
              "      --hover-bg-color: #434B5C;\n",
              "      --hover-fill-color: #FFFFFF;\n",
              "      --disabled-bg-color: #3B4455;\n",
              "      --disabled-fill-color: #666;\n",
              "  }\n",
              "\n",
              "  .colab-df-quickchart {\n",
              "    background-color: var(--bg-color);\n",
              "    border: none;\n",
              "    border-radius: 50%;\n",
              "    cursor: pointer;\n",
              "    display: none;\n",
              "    fill: var(--fill-color);\n",
              "    height: 32px;\n",
              "    padding: 0;\n",
              "    width: 32px;\n",
              "  }\n",
              "\n",
              "  .colab-df-quickchart:hover {\n",
              "    background-color: var(--hover-bg-color);\n",
              "    box-shadow: 0 1px 2px rgba(60, 64, 67, 0.3), 0 1px 3px 1px rgba(60, 64, 67, 0.15);\n",
              "    fill: var(--button-hover-fill-color);\n",
              "  }\n",
              "\n",
              "  .colab-df-quickchart-complete:disabled,\n",
              "  .colab-df-quickchart-complete:disabled:hover {\n",
              "    background-color: var(--disabled-bg-color);\n",
              "    fill: var(--disabled-fill-color);\n",
              "    box-shadow: none;\n",
              "  }\n",
              "\n",
              "  .colab-df-spinner {\n",
              "    border: 2px solid var(--fill-color);\n",
              "    border-color: transparent;\n",
              "    border-bottom-color: var(--fill-color);\n",
              "    animation:\n",
              "      spin 1s steps(1) infinite;\n",
              "  }\n",
              "\n",
              "  @keyframes spin {\n",
              "    0% {\n",
              "      border-color: transparent;\n",
              "      border-bottom-color: var(--fill-color);\n",
              "      border-left-color: var(--fill-color);\n",
              "    }\n",
              "    20% {\n",
              "      border-color: transparent;\n",
              "      border-left-color: var(--fill-color);\n",
              "      border-top-color: var(--fill-color);\n",
              "    }\n",
              "    30% {\n",
              "      border-color: transparent;\n",
              "      border-left-color: var(--fill-color);\n",
              "      border-top-color: var(--fill-color);\n",
              "      border-right-color: var(--fill-color);\n",
              "    }\n",
              "    40% {\n",
              "      border-color: transparent;\n",
              "      border-right-color: var(--fill-color);\n",
              "      border-top-color: var(--fill-color);\n",
              "    }\n",
              "    60% {\n",
              "      border-color: transparent;\n",
              "      border-right-color: var(--fill-color);\n",
              "    }\n",
              "    80% {\n",
              "      border-color: transparent;\n",
              "      border-right-color: var(--fill-color);\n",
              "      border-bottom-color: var(--fill-color);\n",
              "    }\n",
              "    90% {\n",
              "      border-color: transparent;\n",
              "      border-bottom-color: var(--fill-color);\n",
              "    }\n",
              "  }\n",
              "</style>\n",
              "\n",
              "  <script>\n",
              "    async function quickchart(key) {\n",
              "      const quickchartButtonEl =\n",
              "        document.querySelector('#' + key + ' button');\n",
              "      quickchartButtonEl.disabled = true;  // To prevent multiple clicks.\n",
              "      quickchartButtonEl.classList.add('colab-df-spinner');\n",
              "      try {\n",
              "        const charts = await google.colab.kernel.invokeFunction(\n",
              "            'suggestCharts', [key], {});\n",
              "      } catch (error) {\n",
              "        console.error('Error during call to suggestCharts:', error);\n",
              "      }\n",
              "      quickchartButtonEl.classList.remove('colab-df-spinner');\n",
              "      quickchartButtonEl.classList.add('colab-df-quickchart-complete');\n",
              "    }\n",
              "    (() => {\n",
              "      let quickchartButtonEl =\n",
              "        document.querySelector('#df-7321a1d4-9f6e-404f-bc94-3827d7b868e3 button');\n",
              "      quickchartButtonEl.style.display =\n",
              "        google.colab.kernel.accessAllowed ? 'block' : 'none';\n",
              "    })();\n",
              "  </script>\n",
              "</div>\n",
              "\n",
              "    </div>\n",
              "  </div>\n"
            ],
            "application/vnd.google.colaboratory.intrinsic+json": {
              "type": "dataframe",
              "variable_name": "data",
              "summary": "{\n  \"name\": \"data\",\n  \"rows\": 1082,\n  \"fields\": [\n    {\n      \"column\": \"Date\",\n      \"properties\": {\n        \"dtype\": \"date\",\n        \"min\": \"2020-01-02 00:00:00\",\n        \"max\": \"2024-04-19 00:00:00\",\n        \"num_unique_values\": 1082,\n        \"samples\": [\n          \"2020-03-24 00:00:00\",\n          \"2021-10-15 00:00:00\",\n          \"2022-05-03 00:00:00\"\n        ],\n        \"semantic_type\": \"\",\n        \"description\": \"\"\n      }\n    },\n    {\n      \"column\": \"price_spx\",\n      \"properties\": {\n        \"dtype\": \"number\",\n        \"std\": 574.1878290931714,\n        \"min\": 2237.39990234375,\n        \"max\": 5254.35009765625,\n        \"num_unique_values\": 1081,\n        \"samples\": [\n          4520.02978515625,\n          4201.08984375,\n          4026.1201171875\n        ],\n        \"semantic_type\": \"\",\n        \"description\": \"\"\n      }\n    },\n    {\n      \"column\": \"ret_spx\",\n      \"properties\": {\n        \"dtype\": \"number\",\n        \"std\": 0.014168859723089098,\n        \"min\": -0.12765219747281709,\n        \"max\": 0.08968323251796306,\n        \"num_unique_values\": 1081,\n        \"samples\": [\n          -0.0013194368138158552,\n          -0.007260043975698238,\n          -0.015564696794065469\n        ],\n        \"semantic_type\": \"\",\n        \"description\": \"\"\n      }\n    }\n  ]\n}"
            }
          },
          "metadata": {},
          "execution_count": 8
        }
      ]
    },
    {
      "cell_type": "markdown",
      "source": [
        "## Exercises\n",
        "- 根據上述例子，觀察百分比報酬率與log報酬之間的差異，並檢定是否顯著異於零\n",
        "- 下載台股加權指數並建立其報酬率變數\n",
        "- 下載比特幣價格並建立報酬率變數\n",
        "- 觀察這些資產的**價格走勢**與其報酬率的**相關性**"
      ],
      "metadata": {
        "id": "M9_1vKyhyRjI"
      }
    },
    {
      "cell_type": "markdown",
      "source": [
        "# 落後運算元\n",
        "- 將當期資料移到前一期資料，我們可利用$L$進行運算\n",
        "- 該運算元$L$，我們稱之為落後運算元\n",
        "- Python中我們也有對應函數"
      ],
      "metadata": {
        "id": "FneJxkQPzVrB"
      }
    },
    {
      "cell_type": "code",
      "source": [
        "# 落後運算元函數 .shift()\n",
        "data.head()\n",
        "data.ret_spx.shift()"
      ],
      "metadata": {
        "colab": {
          "base_uri": "https://localhost:8080/"
        },
        "id": "W8-lFA_wwcBp",
        "outputId": "c5436bf0-a67d-4e14-d8f6-dcb113a7a6e9"
      },
      "execution_count": 11,
      "outputs": [
        {
          "output_type": "execute_result",
          "data": {
            "text/plain": [
              "Date\n",
              "2020-01-02         NaN\n",
              "2020-01-03         NaN\n",
              "2020-01-06   -0.007085\n",
              "2020-01-07    0.003527\n",
              "2020-01-08   -0.002807\n",
              "                ...   \n",
              "2024-04-15   -0.014658\n",
              "2024-04-16   -0.012094\n",
              "2024-04-17   -0.002059\n",
              "2024-04-18   -0.005797\n",
              "2024-04-19   -0.002211\n",
              "Name: ret_spx, Length: 1082, dtype: float64"
            ]
          },
          "metadata": {},
          "execution_count": 11
        }
      ]
    },
    {
      "cell_type": "markdown",
      "source": [
        "# 模擬白噪音\n",
        "- 白噪音的生成可利用標準常態分佈的亂數生成函數\n",
        "- 標準常態分佈亂數生成 `np.random.randn()`\n",
        "- 白噪音分佈可記為，\n",
        "$$\n",
        "WN(0,\\sigma^2)\n",
        "$$"
      ],
      "metadata": {
        "id": "eHJuNmnZ0S56"
      }
    },
    {
      "cell_type": "code",
      "execution_count": null,
      "metadata": {
        "id": "x3ih9bgbsisE"
      },
      "outputs": [],
      "source": [
        "# construct a white noise\n",
        "# white noise\n",
        "# mean=0, variance=sigma^2\n",
        "mu = 0\n",
        "sigma = 1\n",
        "# set random seed\n",
        "#np.random.seed(1234)\n",
        "wn = mu + sigma*np.random.randn(1000)"
      ]
    },
    {
      "cell_type": "code",
      "execution_count": null,
      "metadata": {
        "scrolled": true,
        "id": "KFRGaKjvsisF",
        "outputId": "7f8edca8-1130-4966-94e7-eb997e4b6ce2"
      },
      "outputs": [
        {
          "data": {
            "text/plain": [
              "array([0.29120536, 0.5665337 , 0.50359176, 0.28529568, 0.48428811])"
            ]
          },
          "execution_count": 23,
          "metadata": {},
          "output_type": "execute_result"
        }
      ],
      "source": [
        "wn[:5]"
      ]
    },
    {
      "cell_type": "code",
      "execution_count": null,
      "metadata": {
        "scrolled": false,
        "id": "mtDWEIu1sisF",
        "outputId": "75f581a2-81e6-4878-b123-a0f74c652c20"
      },
      "outputs": [
        {
          "data": {
            "image/png": "[encoded data removed]",
            "text/plain": [
              "<Figure size 432x288 with 1 Axes>"
            ]
          },
          "metadata": {
            "needs_background": "light"
          },
          "output_type": "display_data"
        }
      ],
      "source": [
        "plt.plot(wn)\n",
        "plt.title('White Noise')\n",
        "plt.xlabel('Time')\n",
        "plt.ylabel('Value')\n",
        "plt.figtext(0.995, 0.01, 'CopyRight', ha='right', va='bottom')\n",
        "plt.grid('True')"
      ]
    },
    {
      "cell_type": "markdown",
      "source": [
        "# 自我相關係數\n",
        "- 下載匯率和股價資料\n",
        "- 計算一階自我相關係數 `A.corr(A.shift())`\n",
        "- 比較其自我相關係數的大小\n",
        "  - 分別下載資料\n",
        "  - 合併資料 `pd.merge()`"
      ],
      "metadata": {
        "id": "QdlVhBEd1XAQ"
      }
    },
    {
      "cell_type": "code",
      "execution_count": 37,
      "metadata": {
        "colab": {
          "base_uri": "https://localhost:8080/"
        },
        "id": "CwpLJPRCsisF",
        "outputId": "b72c0083-657c-488a-a05f-8475ce31e343"
      },
      "outputs": [
        {
          "output_type": "stream",
          "name": "stderr",
          "text": [
            "\r[*********************100%%**********************]  1 of 1 completed"
          ]
        },
        {
          "output_type": "stream",
          "name": "stdout",
          "text": [
            "<class 'pandas.core.frame.DataFrame'>\n",
            "DatetimeIndex: 1124 entries, 2020-01-01 to 2024-04-22\n",
            "Data columns (total 1 columns):\n",
            " #   Column        Non-Null Count  Dtype  \n",
            "---  ------        --------------  -----  \n",
            " 0   price_twdusd  1124 non-null   float64\n",
            "dtypes: float64(1)\n",
            "memory usage: 17.6 KB\n"
          ]
        },
        {
          "output_type": "stream",
          "name": "stderr",
          "text": [
            "\n"
          ]
        }
      ],
      "source": [
        "# download exchange rate USD/EUR or TWD=X\n",
        "test = yf.download('TWD=X')\n",
        "test = test['2020':]\n",
        "test = test[['Adj Close']]\n",
        "test.columns = ['price_twdusd']\n",
        "test.info()"
      ]
    },
    {
      "cell_type": "code",
      "execution_count": 38,
      "metadata": {
        "scrolled": true,
        "id": "631xzFygsisG"
      },
      "outputs": [],
      "source": [
        "# merge by data.index and test.index\n",
        "data = pd.merge(data,test, left_index=True, right_index=True)"
      ]
    },
    {
      "cell_type": "code",
      "source": [
        "data.head()"
      ],
      "metadata": {
        "colab": {
          "base_uri": "https://localhost:8080/",
          "height": 238
        },
        "id": "UtpIlw4IAyeW",
        "outputId": "631fe7d1-3992-46d7-a50f-9f40ee89472b"
      },
      "execution_count": 39,
      "outputs": [
        {
          "output_type": "execute_result",
          "data": {
            "text/plain": [
              "              price_spx   ret_spx  price_eurusd_x  price_eurusd_y  \\\n",
              "Date                                                                \n",
              "2020-01-02  3257.850098       NaN        1.122083       29.844000   \n",
              "2020-01-03  3234.850098 -0.007085        1.117144       29.900000   \n",
              "2020-01-06  3246.280029  0.003527        1.116196       30.035000   \n",
              "2020-01-07  3237.179932 -0.002807        1.119799       30.047001   \n",
              "2020-01-08  3253.050049  0.004890        1.115474       29.985001   \n",
              "\n",
              "            price_twdusd  \n",
              "Date                      \n",
              "2020-01-02     29.844000  \n",
              "2020-01-03     29.900000  \n",
              "2020-01-06     30.035000  \n",
              "2020-01-07     30.047001  \n",
              "2020-01-08     29.985001  "
            ],
            "text/html": [
              "\n",
              "  <div id=\"df-f512e4d2-494a-4dd9-b658-a0d319898aed\" class=\"colab-df-container\">\n",
              "    <div>\n",
              "<style scoped>\n",
              "    .dataframe tbody tr th:only-of-type {\n",
              "        vertical-align: middle;\n",
              "    }\n",
              "\n",
              "    .dataframe tbody tr th {\n",
              "        vertical-align: top;\n",
              "    }\n",
              "\n",
              "    .dataframe thead th {\n",
              "        text-align: right;\n",
              "    }\n",
              "</style>\n",
              "<table border=\"1\" class=\"dataframe\">\n",
              "  <thead>\n",
              "    <tr style=\"text-align: right;\">\n",
              "      <th></th>\n",
              "      <th>price_spx</th>\n",
              "      <th>ret_spx</th>\n",
              "      <th>price_eurusd_x</th>\n",
              "      <th>price_eurusd_y</th>\n",
              "      <th>price_twdusd</th>\n",
              "    </tr>\n",
              "    <tr>\n",
              "      <th>Date</th>\n",
              "      <th></th>\n",
              "      <th></th>\n",
              "      <th></th>\n",
              "      <th></th>\n",
              "      <th></th>\n",
              "    </tr>\n",
              "  </thead>\n",
              "  <tbody>\n",
              "    <tr>\n",
              "      <th>2020-01-02</th>\n",
              "      <td>3257.850098</td>\n",
              "      <td>NaN</td>\n",
              "      <td>1.122083</td>\n",
              "      <td>29.844000</td>\n",
              "      <td>29.844000</td>\n",
              "    </tr>\n",
              "    <tr>\n",
              "      <th>2020-01-03</th>\n",
              "      <td>3234.850098</td>\n",
              "      <td>-0.007085</td>\n",
              "      <td>1.117144</td>\n",
              "      <td>29.900000</td>\n",
              "      <td>29.900000</td>\n",
              "    </tr>\n",
              "    <tr>\n",
              "      <th>2020-01-06</th>\n",
              "      <td>3246.280029</td>\n",
              "      <td>0.003527</td>\n",
              "      <td>1.116196</td>\n",
              "      <td>30.035000</td>\n",
              "      <td>30.035000</td>\n",
              "    </tr>\n",
              "    <tr>\n",
              "      <th>2020-01-07</th>\n",
              "      <td>3237.179932</td>\n",
              "      <td>-0.002807</td>\n",
              "      <td>1.119799</td>\n",
              "      <td>30.047001</td>\n",
              "      <td>30.047001</td>\n",
              "    </tr>\n",
              "    <tr>\n",
              "      <th>2020-01-08</th>\n",
              "      <td>3253.050049</td>\n",
              "      <td>0.004890</td>\n",
              "      <td>1.115474</td>\n",
              "      <td>29.985001</td>\n",
              "      <td>29.985001</td>\n",
              "    </tr>\n",
              "  </tbody>\n",
              "</table>\n",
              "</div>\n",
              "    <div class=\"colab-df-buttons\">\n",
              "\n",
              "  <div class=\"colab-df-container\">\n",
              "    <button class=\"colab-df-convert\" onclick=\"convertToInteractive('df-f512e4d2-494a-4dd9-b658-a0d319898aed')\"\n",
              "            title=\"Convert this dataframe to an interactive table.\"\n",
              "            style=\"display:none;\">\n",
              "\n",
              "  <svg xmlns=\"http://www.w3.org/2000/svg\" height=\"24px\" viewBox=\"0 -960 960 960\">\n",
              "    <path d=\"M120-120v-720h720v720H120Zm60-500h600v-160H180v160Zm220 220h160v-160H400v160Zm0 220h160v-160H400v160ZM180-400h160v-160H180v160Zm440 0h160v-160H620v160ZM180-180h160v-160H180v160Zm440 0h160v-160H620v160Z\"/>\n",
              "  </svg>\n",
              "    </button>\n",
              "\n",
              "  <style>\n",
              "    .colab-df-container {\n",
              "      display:flex;\n",
              "      gap: 12px;\n",
              "    }\n",
              "\n",
              "    .colab-df-convert {\n",
              "      background-color: #E8F0FE;\n",
              "      border: none;\n",
              "      border-radius: 50%;\n",
              "      cursor: pointer;\n",
              "      display: none;\n",
              "      fill: #1967D2;\n",
              "      height: 32px;\n",
              "      padding: 0 0 0 0;\n",
              "      width: 32px;\n",
              "    }\n",
              "\n",
              "    .colab-df-convert:hover {\n",
              "      background-color: #E2EBFA;\n",
              "      box-shadow: 0px 1px 2px rgba(60, 64, 67, 0.3), 0px 1px 3px 1px rgba(60, 64, 67, 0.15);\n",
              "      fill: #174EA6;\n",
              "    }\n",
              "\n",
              "    .colab-df-buttons div {\n",
              "      margin-bottom: 4px;\n",
              "    }\n",
              "\n",
              "    [theme=dark] .colab-df-convert {\n",
              "      background-color: #3B4455;\n",
              "      fill: #D2E3FC;\n",
              "    }\n",
              "\n",
              "    [theme=dark] .colab-df-convert:hover {\n",
              "      background-color: #434B5C;\n",
              "      box-shadow: 0px 1px 3px 1px rgba(0, 0, 0, 0.15);\n",
              "      filter: drop-shadow(0px 1px 2px rgba(0, 0, 0, 0.3));\n",
              "      fill: #FFFFFF;\n",
              "    }\n",
              "  </style>\n",
              "\n",
              "    <script>\n",
              "      const buttonEl =\n",
              "        document.querySelector('#df-f512e4d2-494a-4dd9-b658-a0d319898aed button.colab-df-convert');\n",
              "      buttonEl.style.display =\n",
              "        google.colab.kernel.accessAllowed ? 'block' : 'none';\n",
              "\n",
              "      async function convertToInteractive(key) {\n",
              "        const element = document.querySelector('#df-f512e4d2-494a-4dd9-b658-a0d319898aed');\n",
              "        const dataTable =\n",
              "          await google.colab.kernel.invokeFunction('convertToInteractive',\n",
              "                                                    [key], {});\n",
              "        if (!dataTable) return;\n",
              "\n",
              "        const docLinkHtml = 'Like what you see? Visit the ' +\n",
              "          '<a target=\"_blank\" href=https://colab.research.google.com/notebooks/data_table.ipynb>data table notebook</a>'\n",
              "          + ' to learn more about interactive tables.';\n",
              "        element.innerHTML = '';\n",
              "        dataTable['output_type'] = 'display_data';\n",
              "        await google.colab.output.renderOutput(dataTable, element);\n",
              "        const docLink = document.createElement('div');\n",
              "        docLink.innerHTML = docLinkHtml;\n",
              "        element.appendChild(docLink);\n",
              "      }\n",
              "    </script>\n",
              "  </div>\n",
              "\n",
              "\n",
              "<div id=\"df-ecff3b07-2159-4c27-b486-444f64b15696\">\n",
              "  <button class=\"colab-df-quickchart\" onclick=\"quickchart('df-ecff3b07-2159-4c27-b486-444f64b15696')\"\n",
              "            title=\"Suggest charts\"\n",
              "            style=\"display:none;\">\n",
              "\n",
              "<svg xmlns=\"http://www.w3.org/2000/svg\" height=\"24px\"viewBox=\"0 0 24 24\"\n",
              "     width=\"24px\">\n",
              "    <g>\n",
              "        <path d=\"M19 3H5c-1.1 0-2 .9-2 2v14c0 1.1.9 2 2 2h14c1.1 0 2-.9 2-2V5c0-1.1-.9-2-2-2zM9 17H7v-7h2v7zm4 0h-2V7h2v10zm4 0h-2v-4h2v4z\"/>\n",
              "    </g>\n",
              "</svg>\n",
              "  </button>\n",
              "\n",
              "<style>\n",
              "  .colab-df-quickchart {\n",
              "      --bg-color: #E8F0FE;\n",
              "      --fill-color: #1967D2;\n",
              "      --hover-bg-color: #E2EBFA;\n",
              "      --hover-fill-color: #174EA6;\n",
              "      --disabled-fill-color: #AAA;\n",
              "      --disabled-bg-color: #DDD;\n",
              "  }\n",
              "\n",
              "  [theme=dark] .colab-df-quickchart {\n",
              "      --bg-color: #3B4455;\n",
              "      --fill-color: #D2E3FC;\n",
              "      --hover-bg-color: #434B5C;\n",
              "      --hover-fill-color: #FFFFFF;\n",
              "      --disabled-bg-color: #3B4455;\n",
              "      --disabled-fill-color: #666;\n",
              "  }\n",
              "\n",
              "  .colab-df-quickchart {\n",
              "    background-color: var(--bg-color);\n",
              "    border: none;\n",
              "    border-radius: 50%;\n",
              "    cursor: pointer;\n",
              "    display: none;\n",
              "    fill: var(--fill-color);\n",
              "    height: 32px;\n",
              "    padding: 0;\n",
              "    width: 32px;\n",
              "  }\n",
              "\n",
              "  .colab-df-quickchart:hover {\n",
              "    background-color: var(--hover-bg-color);\n",
              "    box-shadow: 0 1px 2px rgba(60, 64, 67, 0.3), 0 1px 3px 1px rgba(60, 64, 67, 0.15);\n",
              "    fill: var(--button-hover-fill-color);\n",
              "  }\n",
              "\n",
              "  .colab-df-quickchart-complete:disabled,\n",
              "  .colab-df-quickchart-complete:disabled:hover {\n",
              "    background-color: var(--disabled-bg-color);\n",
              "    fill: var(--disabled-fill-color);\n",
              "    box-shadow: none;\n",
              "  }\n",
              "\n",
              "  .colab-df-spinner {\n",
              "    border: 2px solid var(--fill-color);\n",
              "    border-color: transparent;\n",
              "    border-bottom-color: var(--fill-color);\n",
              "    animation:\n",
              "      spin 1s steps(1) infinite;\n",
              "  }\n",
              "\n",
              "  @keyframes spin {\n",
              "    0% {\n",
              "      border-color: transparent;\n",
              "      border-bottom-color: var(--fill-color);\n",
              "      border-left-color: var(--fill-color);\n",
              "    }\n",
              "    20% {\n",
              "      border-color: transparent;\n",
              "      border-left-color: var(--fill-color);\n",
              "      border-top-color: var(--fill-color);\n",
              "    }\n",
              "    30% {\n",
              "      border-color: transparent;\n",
              "      border-left-color: var(--fill-color);\n",
              "      border-top-color: var(--fill-color);\n",
              "      border-right-color: var(--fill-color);\n",
              "    }\n",
              "    40% {\n",
              "      border-color: transparent;\n",
              "      border-right-color: var(--fill-color);\n",
              "      border-top-color: var(--fill-color);\n",
              "    }\n",
              "    60% {\n",
              "      border-color: transparent;\n",
              "      border-right-color: var(--fill-color);\n",
              "    }\n",
              "    80% {\n",
              "      border-color: transparent;\n",
              "      border-right-color: var(--fill-color);\n",
              "      border-bottom-color: var(--fill-color);\n",
              "    }\n",
              "    90% {\n",
              "      border-color: transparent;\n",
              "      border-bottom-color: var(--fill-color);\n",
              "    }\n",
              "  }\n",
              "</style>\n",
              "\n",
              "  <script>\n",
              "    async function quickchart(key) {\n",
              "      const quickchartButtonEl =\n",
              "        document.querySelector('#' + key + ' button');\n",
              "      quickchartButtonEl.disabled = true;  // To prevent multiple clicks.\n",
              "      quickchartButtonEl.classList.add('colab-df-spinner');\n",
              "      try {\n",
              "        const charts = await google.colab.kernel.invokeFunction(\n",
              "            'suggestCharts', [key], {});\n",
              "      } catch (error) {\n",
              "        console.error('Error during call to suggestCharts:', error);\n",
              "      }\n",
              "      quickchartButtonEl.classList.remove('colab-df-spinner');\n",
              "      quickchartButtonEl.classList.add('colab-df-quickchart-complete');\n",
              "    }\n",
              "    (() => {\n",
              "      let quickchartButtonEl =\n",
              "        document.querySelector('#df-ecff3b07-2159-4c27-b486-444f64b15696 button');\n",
              "      quickchartButtonEl.style.display =\n",
              "        google.colab.kernel.accessAllowed ? 'block' : 'none';\n",
              "    })();\n",
              "  </script>\n",
              "</div>\n",
              "\n",
              "    </div>\n",
              "  </div>\n"
            ],
            "application/vnd.google.colaboratory.intrinsic+json": {
              "type": "dataframe",
              "variable_name": "data",
              "summary": "{\n  \"name\": \"data\",\n  \"rows\": 1082,\n  \"fields\": [\n    {\n      \"column\": \"Date\",\n      \"properties\": {\n        \"dtype\": \"date\",\n        \"min\": \"2020-01-02 00:00:00\",\n        \"max\": \"2024-04-19 00:00:00\",\n        \"num_unique_values\": 1082,\n        \"samples\": [\n          \"2020-03-24 00:00:00\",\n          \"2021-10-15 00:00:00\",\n          \"2022-05-03 00:00:00\"\n        ],\n        \"semantic_type\": \"\",\n        \"description\": \"\"\n      }\n    },\n    {\n      \"column\": \"price_spx\",\n      \"properties\": {\n        \"dtype\": \"number\",\n        \"std\": 574.1878290931714,\n        \"min\": 2237.39990234375,\n        \"max\": 5254.35009765625,\n        \"num_unique_values\": 1081,\n        \"samples\": [\n          4520.02978515625,\n          4201.08984375,\n          4026.1201171875\n        ],\n        \"semantic_type\": \"\",\n        \"description\": \"\"\n      }\n    },\n    {\n      \"column\": \"ret_spx\",\n      \"properties\": {\n        \"dtype\": \"number\",\n        \"std\": 0.014168859723089098,\n        \"min\": -0.12765219747281709,\n        \"max\": 0.08968323251796306,\n        \"num_unique_values\": 1081,\n        \"samples\": [\n          -0.0013194368138158552,\n          -0.007260043975698238,\n          -0.015564696794065469\n        ],\n        \"semantic_type\": \"\",\n        \"description\": \"\"\n      }\n    },\n    {\n      \"column\": \"price_eurusd_x\",\n      \"properties\": {\n        \"dtype\": \"number\",\n        \"std\": 0.0612710414567337,\n        \"min\": 0.9596191644668579,\n        \"max\": 1.2341108322143555,\n        \"num_unique_values\": 1017,\n        \"samples\": [\n          1.0721560716629028,\n          1.0840108394622803,\n          1.11906898021698\n        ],\n        \"semantic_type\": \"\",\n        \"description\": \"\"\n      }\n    },\n    {\n      \"column\": \"price_eurusd_y\",\n      \"properties\": {\n        \"dtype\": \"number\",\n        \"std\": 1.4657341260231147,\n        \"min\": 27.4237003326416,\n        \"max\": 32.49789810180664,\n        \"num_unique_values\": 1029,\n        \"samples\": [\n          28.3085994720459,\n          28.651500701904297,\n          27.973600387573242\n        ],\n        \"semantic_type\": \"\",\n        \"description\": \"\"\n      }\n    },\n    {\n      \"column\": \"price_twdusd\",\n      \"properties\": {\n        \"dtype\": \"number\",\n        \"std\": 1.4657341260231147,\n        \"min\": 27.4237003326416,\n        \"max\": 32.49789810180664,\n        \"num_unique_values\": 1029,\n        \"samples\": [\n          28.3085994720459,\n          28.651500701904297,\n          27.973600387573242\n        ],\n        \"semantic_type\": \"\",\n        \"description\": \"\"\n      }\n    }\n  ]\n}"
            }
          },
          "metadata": {},
          "execution_count": 39
        }
      ]
    },
    {
      "cell_type": "code",
      "source": [
        "data.price_twdusd.plot()"
      ],
      "metadata": {
        "colab": {
          "base_uri": "https://localhost:8080/",
          "height": 451
        },
        "id": "m7-7v9OtBr5M",
        "outputId": "6e94530a-a150-4cc2-9ba5-bd3bd42c52c7"
      },
      "execution_count": 40,
      "outputs": [
        {
          "output_type": "execute_result",
          "data": {
            "text/plain": [
              "<Axes: xlabel='Date'>"
            ]
          },
          "metadata": {},
          "execution_count": 40
        },
        {
          "output_type": "display_data",
          "data": {
            "text/plain": [
              "<Figure size 640x480 with 1 Axes>"
            ],
            "image/png": "[encoded data removed]"
          },
          "metadata": {}
        }
      ]
    },
    {
      "cell_type": "code",
      "execution_count": 31,
      "metadata": {
        "collapsed": true,
        "colab": {
          "base_uri": "https://localhost:8080/"
        },
        "id": "lC2eaj39sisG",
        "outputId": "eeb78fba-47ed-4a53-b066-ab37c3afda2b"
      },
      "outputs": [
        {
          "output_type": "execute_result",
          "data": {
            "text/plain": [
              "0.9963371235091717"
            ]
          },
          "metadata": {},
          "execution_count": 31
        }
      ],
      "source": [
        "# calculate the first-order autocorrelation of price_spx\n",
        "data.price_spx.corr(data.price_spx.shift())\n"
      ]
    },
    {
      "cell_type": "markdown",
      "source": [
        "# 建立固定趨勢模型\n",
        "- 建立時間趨勢變數\n",
        "- 建立時間趨勢模型"
      ],
      "metadata": {
        "id": "IUskIWYqHXRL"
      }
    },
    {
      "cell_type": "code",
      "execution_count": null,
      "metadata": {
        "id": "sZJINrR0sisI",
        "outputId": "723a1d1b-b7c7-4233-dac8-b06030cc9573"
      },
      "outputs": [
        {
          "data": {
            "text/html": [
              "<div>\n",
              "<style scoped>\n",
              "    .dataframe tbody tr th:only-of-type {\n",
              "        vertical-align: middle;\n",
              "    }\n",
              "\n",
              "    .dataframe tbody tr th {\n",
              "        vertical-align: top;\n",
              "    }\n",
              "\n",
              "    .dataframe thead th {\n",
              "        text-align: right;\n",
              "    }\n",
              "</style>\n",
              "<table border=\"1\" class=\"dataframe\">\n",
              "  <thead>\n",
              "    <tr style=\"text-align: right;\">\n",
              "      <th></th>\n",
              "      <th>twdx</th>\n",
              "      <th>t_trend</th>\n",
              "    </tr>\n",
              "    <tr>\n",
              "      <th>Date</th>\n",
              "      <th></th>\n",
              "      <th></th>\n",
              "    </tr>\n",
              "  </thead>\n",
              "  <tbody>\n",
              "    <tr>\n",
              "      <th>2018-12-31</th>\n",
              "      <td>30.552999</td>\n",
              "      <td>0</td>\n",
              "    </tr>\n",
              "    <tr>\n",
              "      <th>2019-01-01</th>\n",
              "      <td>30.565001</td>\n",
              "      <td>1</td>\n",
              "    </tr>\n",
              "    <tr>\n",
              "      <th>2019-01-02</th>\n",
              "      <td>30.500999</td>\n",
              "      <td>2</td>\n",
              "    </tr>\n",
              "    <tr>\n",
              "      <th>2019-01-03</th>\n",
              "      <td>30.759001</td>\n",
              "      <td>3</td>\n",
              "    </tr>\n",
              "    <tr>\n",
              "      <th>2019-01-04</th>\n",
              "      <td>30.863001</td>\n",
              "      <td>4</td>\n",
              "    </tr>\n",
              "  </tbody>\n",
              "</table>\n",
              "</div>"
            ],
            "text/plain": [
              "                 twdx  t_trend\n",
              "Date                          \n",
              "2018-12-31  30.552999        0\n",
              "2019-01-01  30.565001        1\n",
              "2019-01-02  30.500999        2\n",
              "2019-01-03  30.759001        3\n",
              "2019-01-04  30.863001        4"
            ]
          },
          "execution_count": 46,
          "metadata": {},
          "output_type": "execute_result"
        }
      ],
      "source": [
        "# construct the time trend variable\n",
        "twdusd['t_trend'] = range(len(twdusd.twdx))\n",
        "twdusd.head()"
      ]
    },
    {
      "cell_type": "code",
      "execution_count": null,
      "metadata": {
        "id": "4ryJ5FUssisI",
        "outputId": "f59437a8-39ca-4003-9aac-80847459bfff"
      },
      "outputs": [
        {
          "name": "stdout",
          "output_type": "stream",
          "text": [
            "                            OLS Regression Results                            \n",
            "==============================================================================\n",
            "Dep. Variable:                   twdx   R-squared:                       0.865\n",
            "Model:                            OLS   Adj. R-squared:                  0.865\n",
            "Method:                 Least Squares   F-statistic:                     3535.\n",
            "Date:                Thu, 11 Mar 2021   Prob (F-statistic):          6.77e-242\n",
            "Time:                        12:50:43   Log-Likelihood:                -260.33\n",
            "No. Observations:                 553   AIC:                             524.7\n",
            "Df Residuals:                     551   BIC:                             533.3\n",
            "Df Model:                           1                                         \n",
            "Covariance Type:            nonrobust                                         \n",
            "==============================================================================\n",
            "                 coef    std err          t      P>|t|      [0.025      0.975]\n",
            "------------------------------------------------------------------------------\n",
            "const         31.6015      0.033    958.583      0.000      31.537      31.666\n",
            "t_trend       -0.0061      0.000    -59.458      0.000      -0.006      -0.006\n",
            "==============================================================================\n",
            "Omnibus:                       13.091   Durbin-Watson:                   0.062\n",
            "Prob(Omnibus):                  0.001   Jarque-Bera (JB):                7.761\n",
            "Skew:                          -0.108   Prob(JB):                       0.0206\n",
            "Kurtosis:                       2.461   Cond. No.                         637.\n",
            "==============================================================================\n",
            "\n",
            "Warnings:\n",
            "[1] Standard Errors assume that the covariance matrix of the errors is correctly specified.\n"
          ]
        },
        {
          "name": "stderr",
          "output_type": "stream",
          "text": [
            "C:\\Users\\queti\\Anaconda3\\lib\\site-packages\\numpy\\core\\fromnumeric.py:2389: FutureWarning: Method .ptp is deprecated and will be removed in a future version. Use numpy.ptp instead.\n",
            "  return ptp(axis=axis, out=out, **kwargs)\n"
          ]
        }
      ],
      "source": [
        "# time-trend regression\n",
        "x = sm.add_constant(twdusd['t_trend'])\n",
        "y = twdusd.twdx\n",
        "result = sm.OLS(y,x,missing='drop').fit()\n",
        "print(result.summary())"
      ]
    },
    {
      "cell_type": "code",
      "execution_count": null,
      "metadata": {
        "id": "YYXlVONLsisI"
      },
      "outputs": [],
      "source": [
        "result.resid.plot()"
      ]
    },
    {
      "cell_type": "markdown",
      "source": [
        "# 建立季節性趨勢模型\n",
        "- 建立季節性趨勢變數\n",
        "- 建立季節性趨勢模型"
      ],
      "metadata": {
        "id": "7g-lnQ6zH2rj"
      }
    },
    {
      "cell_type": "code",
      "execution_count": null,
      "metadata": {
        "scrolled": true,
        "id": "VWBzDvQ8sisI",
        "outputId": "b809efa9-7663-4c15-a9fa-d88768d5aca5"
      },
      "outputs": [
        {
          "name": "stderr",
          "output_type": "stream",
          "text": [
            "C:\\Users\\queti\\Anaconda3\\lib\\site-packages\\ipykernel_launcher.py:2: SettingWithCopyWarning: \n",
            "A value is trying to be set on a copy of a slice from a DataFrame\n",
            "\n",
            "See the caveats in the documentation: http://pandas.pydata.org/pandas-docs/stable/indexing.html#indexing-view-versus-copy\n",
            "  \n",
            "C:\\Users\\queti\\Anaconda3\\lib\\site-packages\\ipykernel_launcher.py:3: SettingWithCopyWarning: \n",
            "A value is trying to be set on a copy of a slice from a DataFrame\n",
            "\n",
            "See the caveats in the documentation: http://pandas.pydata.org/pandas-docs/stable/indexing.html#indexing-view-versus-copy\n",
            "  This is separate from the ipykernel package so we can avoid doing imports until\n",
            "C:\\Users\\queti\\Anaconda3\\lib\\site-packages\\ipykernel_launcher.py:4: SettingWithCopyWarning: \n",
            "A value is trying to be set on a copy of a slice from a DataFrame\n",
            "\n",
            "See the caveats in the documentation: http://pandas.pydata.org/pandas-docs/stable/indexing.html#indexing-view-versus-copy\n",
            "  after removing the cwd from sys.path.\n"
          ]
        }
      ],
      "source": [
        "# 建立季節性dummy\n",
        "twdusd['q_dum_1'] = 0\n",
        "twdusd['q_dum_2'] = 0\n",
        "twdusd['q_dum_3'] = 0\n",
        "\n",
        "twdusd['q_dum_1'][twdusd.index.quarter == 1] = 1\n",
        "twdusd['q_dum_2'][twdusd.index.quarter == 2] = 1\n",
        "twdusd['q_dum_3'][twdusd.index.quarter == 3] = 1"
      ]
    },
    {
      "cell_type": "code",
      "execution_count": null,
      "metadata": {
        "id": "SRYTTzassisJ",
        "outputId": "b5eea4ed-26cc-46f5-bd8e-f02ef1763562"
      },
      "outputs": [
        {
          "name": "stdout",
          "output_type": "stream",
          "text": [
            "                            OLS Regression Results                            \n",
            "==============================================================================\n",
            "Dep. Variable:                   twdx   R-squared:                       0.133\n",
            "Model:                            OLS   Adj. R-squared:                  0.128\n",
            "Method:                 Least Squares   F-statistic:                     28.10\n",
            "Date:                Thu, 11 Mar 2021   Prob (F-statistic):           6.45e-17\n",
            "Time:                        12:59:02   Log-Likelihood:                -774.84\n",
            "No. Observations:                 553   AIC:                             1558.\n",
            "Df Residuals:                     549   BIC:                             1575.\n",
            "Df Model:                           3                                         \n",
            "Covariance Type:            nonrobust                                         \n",
            "==============================================================================\n",
            "                 coef    std err          t      P>|t|      [0.025      0.975]\n",
            "------------------------------------------------------------------------------\n",
            "const         29.3880      0.088    334.580      0.000      29.215      29.561\n",
            "q_dum_1        0.3497      0.114      3.057      0.002       0.125       0.574\n",
            "q_dum_2        1.0568      0.123      8.557      0.000       0.814       1.299\n",
            "q_dum_3        0.7363      0.127      5.817      0.000       0.488       0.985\n",
            "==============================================================================\n",
            "Omnibus:                      386.810   Durbin-Watson:                   0.014\n",
            "Prob(Omnibus):                  0.000   Jarque-Bera (JB):               44.127\n",
            "Skew:                          -0.339   Prob(JB):                     2.62e-10\n",
            "Kurtosis:                       1.794   Cond. No.                         5.03\n",
            "==============================================================================\n",
            "\n",
            "Warnings:\n",
            "[1] Standard Errors assume that the covariance matrix of the errors is correctly specified.\n"
          ]
        },
        {
          "name": "stderr",
          "output_type": "stream",
          "text": [
            "C:\\Users\\queti\\Anaconda3\\lib\\site-packages\\numpy\\core\\fromnumeric.py:2389: FutureWarning: Method .ptp is deprecated and will be removed in a future version. Use numpy.ptp instead.\n",
            "  return ptp(axis=axis, out=out, **kwargs)\n"
          ]
        }
      ],
      "source": [
        "# construct the season dummy into our model\n",
        "x = sm.add_constant(twdusd[['q_dum_1','q_dum_2','q_dum_3']])\n",
        "y = twdusd.twdx\n",
        "result = sm.OLS(y,x,missing='drop').fit()\n",
        "print(result.summary())"
      ]
    },
    {
      "cell_type": "markdown",
      "source": [
        "# 檢驗模型的配適性\n"
      ],
      "metadata": {
        "id": "7Q4HAewUIDMq"
      }
    },
    {
      "cell_type": "code",
      "execution_count": null,
      "metadata": {
        "id": "PhZYfQa0sisJ"
      },
      "outputs": [],
      "source": [
        "# obtain the residual of the model\n",
        "result.fittedvalues"
      ]
    }
  ],
  "metadata": {
    "kernelspec": {
      "display_name": "Python 3",
      "language": "python",
      "name": "python3"
    },
    "language_info": {
      "codemirror_mode": {
        "name": "ipython",
        "version": 3
      },
      "file_extension": ".py",
      "mimetype": "text/x-python",
      "name": "python",
      "nbconvert_exporter": "python",
      "pygments_lexer": "ipython3",
      "version": "3.7.3"
    },
    "colab": {
      "provenance": [],
      "include_colab_link": true
    }
  },
  "nbformat": 4,
  "nbformat_minor": 0
}