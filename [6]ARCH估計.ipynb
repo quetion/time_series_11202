{
  "cells": [
    {
      "cell_type": "markdown",
      "metadata": {
        "id": "view-in-github",
        "colab_type": "text"
      },
      "source": [
        "<a href=\"https://colab.research.google.com/github/quetion/time_series_11202/blob/main/%5B6%5DARCH%E4%BC%B0%E8%A8%88.ipynb\" target=\"_parent\"><img src=\"https://colab.research.google.com/assets/colab-badge.svg\" alt=\"Open In Colab\"/></a>"
      ]
    },
    {
      "cell_type": "markdown",
      "source": [
        "# ARCH 模型\n",
        "## 波動率建模\n",
        "- 建構時間序列波動率模型\n",
        "- 考慮AR(1)模型\n",
        "- 可推算出$y_{t+1}$在時間$t$的條件期望值\n",
        "- 也可推算$y_{t+1}$在時間$t$的條件變異數\n",
        "## 問題\n",
        "- 上述方法的波動率不會隨時間變動而變動\n",
        "- 波動率的特性\n",
        "  - time-varying volatility\n",
        "  - volatility clustering\n",
        "- 此外, 報酬率通常呈現厚尾\n",
        "\n"
      ],
      "metadata": {
        "id": "oh1pY2io0j-7"
      }
    },
    {
      "cell_type": "code",
      "execution_count": 3,
      "metadata": {
        "colab": {
          "base_uri": "https://localhost:8080/"
        },
        "id": "MdU3Mfv_zv6f",
        "outputId": "f301370c-723f-404c-8ec3-9b93baea5448"
      },
      "outputs": [
        {
          "output_type": "stream",
          "name": "stdout",
          "text": [
            "Collecting arch\n",
            "  Downloading arch-7.0.0-cp310-cp310-manylinux_2_17_x86_64.manylinux2014_x86_64.whl (983 kB)\n",
            "\u001b[2K     \u001b[90m━━━━━━━━━━━━━━━━━━━━━━━━━━━━━━━━━━━━━━━━\u001b[0m \u001b[32m983.4/983.4 kB\u001b[0m \u001b[31m7.3 MB/s\u001b[0m eta \u001b[36m0:00:00\u001b[0m\n",
            "\u001b[?25hRequirement already satisfied: numpy>=1.22.3 in /usr/local/lib/python3.10/dist-packages (from arch) (1.25.2)\n",
            "Requirement already satisfied: scipy>=1.8 in /usr/local/lib/python3.10/dist-packages (from arch) (1.11.4)\n",
            "Requirement already satisfied: pandas>=1.4 in /usr/local/lib/python3.10/dist-packages (from arch) (2.0.3)\n",
            "Requirement already satisfied: statsmodels>=0.12 in /usr/local/lib/python3.10/dist-packages (from arch) (0.14.2)\n",
            "Requirement already satisfied: python-dateutil>=2.8.2 in /usr/local/lib/python3.10/dist-packages (from pandas>=1.4->arch) (2.8.2)\n",
            "Requirement already satisfied: pytz>=2020.1 in /usr/local/lib/python3.10/dist-packages (from pandas>=1.4->arch) (2023.4)\n",
            "Requirement already satisfied: tzdata>=2022.1 in /usr/local/lib/python3.10/dist-packages (from pandas>=1.4->arch) (2024.1)\n",
            "Requirement already satisfied: patsy>=0.5.6 in /usr/local/lib/python3.10/dist-packages (from statsmodels>=0.12->arch) (0.5.6)\n",
            "Requirement already satisfied: packaging>=21.3 in /usr/local/lib/python3.10/dist-packages (from statsmodels>=0.12->arch) (24.0)\n",
            "Requirement already satisfied: six in /usr/local/lib/python3.10/dist-packages (from patsy>=0.5.6->statsmodels>=0.12->arch) (1.16.0)\n",
            "Installing collected packages: arch\n",
            "Successfully installed arch-7.0.0\n"
          ]
        }
      ],
      "source": [
        "# 安裝套件\n",
        "!pip install arch"
      ]
    },
    {
      "cell_type": "code",
      "execution_count": 4,
      "metadata": {
        "id": "uCFDQkaFzv6i"
      },
      "outputs": [],
      "source": [
        "import numpy as np\n",
        "import pandas as pd\n",
        "import matplotlib.pyplot as plt\n",
        "import yfinance as yf\n",
        "# arch套件\n",
        "from arch import arch_model"
      ]
    },
    {
      "cell_type": "code",
      "execution_count": 7,
      "metadata": {
        "colab": {
          "base_uri": "https://localhost:8080/"
        },
        "id": "R_qlOyHgzv6j",
        "outputId": "b9a3de73-cc54-4fe9-bfbb-b42ffdcdd49b"
      },
      "outputs": [
        {
          "output_type": "stream",
          "name": "stderr",
          "text": [
            "\r[*********************100%%**********************]  1 of 1 completed\n",
            "<ipython-input-7-549bb68c06c3>:7: SettingWithCopyWarning: \n",
            "A value is trying to be set on a copy of a slice from a DataFrame.\n",
            "Try using .loc[row_indexer,col_indexer] = value instead\n",
            "\n",
            "See the caveats in the documentation: https://pandas.pydata.org/pandas-docs/stable/user_guide/indexing.html#returning-a-view-versus-a-copy\n",
            "  data['ret_spx'] = np.log(data.price_spx).diff()\n"
          ]
        }
      ],
      "source": [
        "# 下載資料\n",
        "data = yf.download('^gspc',start='2020-01-01')\n",
        "# 整理資料\n",
        "data.index = pd.to_datetime(data.index)\n",
        "data = data[['Adj Close']]\n",
        "data.columns = ['price_spx']\n",
        "data['ret_spx'] = np.log(data.price_spx).diff()\n"
      ]
    },
    {
      "cell_type": "code",
      "execution_count": null,
      "metadata": {
        "scrolled": true,
        "id": "8ZVyXdiVzv6k",
        "outputId": "57062931-2cba-4a25-9210-4a40f1ee234e"
      },
      "outputs": [
        {
          "name": "stdout",
          "output_type": "stream",
          "text": [
            "Iteration:      1,   Func. Count:      6,   Neg. LLF: 4966314338.386006\n",
            "Iteration:      2,   Func. Count:     18,   Neg. LLF: 921.1176484658962\n",
            "Iteration:      3,   Func. Count:     28,   Neg. LLF: 1575949.5077061749\n",
            "Iteration:      4,   Func. Count:     39,   Neg. LLF: 2255.9077368897574\n",
            "Iteration:      5,   Func. Count:     49,   Neg. LLF: 368.139859795715\n",
            "Iteration:      6,   Func. Count:     58,   Neg. LLF: 648162.7686923802\n",
            "Iteration:      7,   Func. Count:     68,   Neg. LLF: -583.9053532303868\n",
            "Iteration:      8,   Func. Count:     75,   Neg. LLF: -905.8733430239831\n",
            "Iteration:      9,   Func. Count:     81,   Neg. LLF: -1021.7385446410434\n",
            "Iteration:     10,   Func. Count:     87,   Neg. LLF: -921.2277914157944\n",
            "Iteration:     11,   Func. Count:     94,   Neg. LLF: -1022.0493988930033\n",
            "Iteration:     12,   Func. Count:    100,   Neg. LLF: -1022.2343206172006\n",
            "Iteration:     13,   Func. Count:    105,   Neg. LLF: -1022.2348610797352\n",
            "Iteration:     14,   Func. Count:    110,   Neg. LLF: -1022.2349517685038\n",
            "Iteration:     15,   Func. Count:    114,   Neg. LLF: -1022.2349517685032\n",
            "Optimization terminated successfully    (Exit mode 0)\n",
            "            Current function value: -1022.2349517685038\n",
            "            Iterations: 15\n",
            "            Function evaluations: 114\n",
            "            Gradient evaluations: 15\n",
            "                     Constant Mean - GARCH Model Results                      \n",
            "==============================================================================\n",
            "Dep. Variable:                    ret   R-squared:                       0.000\n",
            "Mean Model:             Constant Mean   Adj. R-squared:                  0.000\n",
            "Vol Model:                      GARCH   Log-Likelihood:                1022.23\n",
            "Distribution:                  Normal   AIC:                          -2036.47\n",
            "Method:            Maximum Likelihood   BIC:                          -2021.06\n",
            "                                        No. Observations:                  348\n",
            "Date:                Thu, May 20 2021   Df Residuals:                      347\n",
            "Time:                        10:33:32   Df Model:                            1\n",
            "                                 Mean Model                                 \n",
            "============================================================================\n",
            "                 coef    std err          t      P>|t|      95.0% Conf. Int.\n",
            "----------------------------------------------------------------------------\n",
            "mu         1.2629e-03  5.495e-04      2.298  2.155e-02 [1.859e-04,2.340e-03]\n",
            "                              Volatility Model                              \n",
            "============================================================================\n",
            "                 coef    std err          t      P>|t|      95.0% Conf. Int.\n",
            "----------------------------------------------------------------------------\n",
            "omega      1.3840e-05  8.610e-12  1.608e+06      0.000 [1.384e-05,1.384e-05]\n",
            "alpha[1]       0.3110  9.064e-02      3.431  6.016e-04     [  0.133,  0.489]\n",
            "beta[1]        0.6573  5.525e-02     11.896  1.246e-32     [  0.549,  0.766]\n",
            "============================================================================\n",
            "\n",
            "Covariance estimator: robust\n"
          ]
        },
        {
          "name": "stderr",
          "output_type": "stream",
          "text": [
            "C:\\Users\\kcyen\\anaconda3\\lib\\site-packages\\arch\\univariate\\base.py:316: DataScaleWarning: y is poorly scaled, which may affect convergence of the optimizer when\n",
            "estimating the model parameters. The scale of y is 0.0003696. Parameter\n",
            "estimation work better when this value is between 1 and 1000. The recommended\n",
            "rescaling is 100 * y.\n",
            "\n",
            "This warning can be disabled by either rescaling y before initializing the\n",
            "model or by setting rescale=False.\n",
            "\n",
            "  warnings.warn(\n"
          ]
        }
      ],
      "source": [
        "# 將報酬率放入arch_model(指定garch)\n",
        "res = arch_model(data.ret.dropna(),p=1,q=1).fit() # GARCH(p,q)\n",
        "print(res.summary())"
      ]
    },
    {
      "cell_type": "code",
      "execution_count": null,
      "metadata": {
        "id": "dNJ0AoCZzv6k"
      },
      "outputs": [],
      "source": [
        "# 估計每日條件波動率\n",
        "vol_garch = res.conditional_volatility"
      ]
    },
    {
      "cell_type": "code",
      "execution_count": null,
      "metadata": {
        "id": "FBSci1cPzv6k"
      },
      "outputs": [],
      "source": [
        "%matplotlib inline"
      ]
    },
    {
      "cell_type": "code",
      "execution_count": null,
      "metadata": {
        "id": "qvhrbT6vzv6l",
        "outputId": "b7a7c81d-5940-4be3-d517-c99889969ff4"
      },
      "outputs": [
        {
          "data": {
            "text/plain": [
              "<matplotlib.axes._subplots.AxesSubplot at 0x2133ac61430>"
            ]
          },
          "execution_count": 11,
          "metadata": {},
          "output_type": "execute_result"
        },
        {
          "data": {
            "image/png": "[encoded data removed]",
            "text/plain": [
              "<Figure size 432x288 with 1 Axes>"
            ]
          },
          "metadata": {
            "needs_background": "light"
          },
          "output_type": "display_data"
        }
      ],
      "source": [
        "res.conditional_volatility.plot()\n"
      ]
    },
    {
      "cell_type": "code",
      "execution_count": null,
      "metadata": {
        "id": "dAFPrDy1zv6l"
      },
      "outputs": [],
      "source": []
    }
  ],
  "metadata": {
    "kernelspec": {
      "display_name": "Python 3",
      "language": "python",
      "name": "python3"
    },
    "language_info": {
      "codemirror_mode": {
        "name": "ipython",
        "version": 3
      },
      "file_extension": ".py",
      "mimetype": "text/x-python",
      "name": "python",
      "nbconvert_exporter": "python",
      "pygments_lexer": "ipython3",
      "version": "3.8.3"
    },
    "colab": {
      "provenance": [],
      "include_colab_link": true
    }
  },
  "nbformat": 4,
  "nbformat_minor": 0
}