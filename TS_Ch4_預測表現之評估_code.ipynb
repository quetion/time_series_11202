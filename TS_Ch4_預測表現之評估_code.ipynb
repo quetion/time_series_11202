{
  "cells": [
    {
      "cell_type": "markdown",
      "metadata": {
        "id": "view-in-github",
        "colab_type": "text"
      },
      "source": [
        "<a href=\"https://colab.research.google.com/github/quetion/time_series_11202/blob/main/TS_Ch4_%E9%A0%90%E6%B8%AC%E8%A1%A8%E7%8F%BE%E4%B9%8B%E8%A9%95%E4%BC%B0_code.ipynb\" target=\"_parent\"><img src=\"https://colab.research.google.com/assets/colab-badge.svg\" alt=\"Open In Colab\"/></a>"
      ]
    },
    {
      "cell_type": "markdown",
      "metadata": {
        "id": "YuvrMwx7r6JK"
      },
      "source": [
        "# Diebold-Mariano 檢定\n",
        "- 以比特幣報酬為例\n",
        "- 比較AR(1)與AR(2)的模型預測能力\n",
        "- 利用Diebold-Mariano 檢定"
      ]
    },
    {
      "cell_type": "code",
      "execution_count": 1,
      "metadata": {
        "id": "-9bCFLDLr6JL"
      },
      "outputs": [],
      "source": [
        "# package\n",
        "import numpy as np\n",
        "import pandas as pd\n",
        "import matplotlib.pyplot as plt\n",
        "import yfinance as yf\n",
        "import statsmodels.api as sm\n",
        "#from statsmodels.regression.rolling import RollingOLS"
      ]
    },
    {
      "cell_type": "code",
      "execution_count": 32,
      "metadata": {
        "colab": {
          "base_uri": "https://localhost:8080/"
        },
        "id": "havYz-IQr6JM",
        "outputId": "c66c780b-7fbc-46ce-8b39-7c45c648d4ec"
      },
      "outputs": [
        {
          "output_type": "stream",
          "name": "stderr",
          "text": [
            "\r[*********************100%%**********************]  1 of 1 completed\n"
          ]
        }
      ],
      "source": [
        "data = yf.download('BTC-USD',start = '2020-01-01',end='2022-01-01')\n",
        "data = data[['Adj Close']] # only keep column = ['Adj Close']\n",
        "data.columns = ['price_btc'] # rename the column\n",
        "data.index = pd.to_datetime(data.index) # reset the index to be the date format"
      ]
    },
    {
      "cell_type": "code",
      "execution_count": null,
      "metadata": {
        "scrolled": true,
        "id": "audQLDwxr6JM"
      },
      "outputs": [],
      "source": [
        "data.price_btc.plot()"
      ]
    },
    {
      "cell_type": "markdown",
      "metadata": {
        "id": "EdenxQPar6JM"
      },
      "source": [
        "## 設定自變數\n",
        "- 報酬率\n",
        "- 落後一期報酬率\n",
        "- 落後二期報酬率"
      ]
    },
    {
      "cell_type": "markdown",
      "source": [
        "- 這裡是建立報酬率\n",
        "$$\n",
        "y_t, y_{t-1}\n",
        "$$\n",
        "- markdown語法\n",
        "`the format code`"
      ],
      "metadata": {
        "id": "Sk4lzYjv204T"
      }
    },
    {
      "cell_type": "code",
      "execution_count": null,
      "metadata": {
        "id": "dVtp_Nsvr6JM"
      },
      "outputs": [],
      "source": [
        "# construct the log return (y_t)\n",
        "data['ret_btc'] = np.log(data.price_btc).diff()\n",
        "# construct the lagged return (y_{t-1},y_{t-2})\n",
        "data['ret_btc_1'] = data.ret_btc.shift(1)\n",
        "data['ret_btc_2'] = data.ret_btc.shift(2)"
      ]
    },
    {
      "cell_type": "code",
      "source": [
        "# construct AR(1) (in-sample)\n",
        "y = data.ret_btc\n",
        "x = sm.add_constant(data.ret_btc_1)\n",
        "results = sm.OLS(y,x,missing='drop').fit()\n",
        "print(results.summary())"
      ],
      "metadata": {
        "id": "SDHokO0X4XNK"
      },
      "execution_count": null,
      "outputs": []
    },
    {
      "cell_type": "markdown",
      "metadata": {
        "id": "-dHx43ufr6JN"
      },
      "source": [
        "## 設定樣本範圍\n",
        "- 資料總數為`1190`\n",
        "- 樣本內資料設定為`R=200`\n",
        "- 樣本外資料設定為`P=990`\n"
      ]
    },
    {
      "cell_type": "code",
      "execution_count": 36,
      "metadata": {
        "id": "i3fjo8Inr6JN",
        "outputId": "ecbf5e66-8ad1-4bb6-e16a-c981a10b9d24",
        "colab": {
          "base_uri": "https://localhost:8080/"
        }
      },
      "outputs": [
        {
          "output_type": "stream",
          "name": "stdout",
          "text": [
            "200 531\n"
          ]
        }
      ],
      "source": [
        "R = 200 # the number in the sample to construct the model\n",
        "P = len(data) - R # the number (out-of-sample) to check the performance of the model\n",
        "print(R,P)\n"
      ]
    },
    {
      "cell_type": "code",
      "source": [
        "y = data.ret_btc[1:201]\n",
        "x = sm.add_constant(data.ret_btc_1[1:201])\n",
        "result_ar1 = sm.OLS(y,x,missing='drop').fit()"
      ],
      "metadata": {
        "id": "sZAh35gb7ivJ"
      },
      "execution_count": 37,
      "outputs": []
    },
    {
      "cell_type": "code",
      "source": [
        "y.head()"
      ],
      "metadata": {
        "colab": {
          "base_uri": "https://localhost:8080/"
        },
        "id": "vn8ecHZj8Mx3",
        "outputId": "447efdec-7b54-4bbb-b860-5e1c8977d2c7"
      },
      "execution_count": 48,
      "outputs": [
        {
          "output_type": "execute_result",
          "data": {
            "text/plain": [
              "Date\n",
              "2020-01-02   -0.030273\n",
              "2020-01-03    0.050172\n",
              "2020-01-04    0.008915\n",
              "2020-01-05    0.000089\n",
              "2020-01-06    0.047161\n",
              "Name: ret_btc, dtype: float64"
            ]
          },
          "metadata": {},
          "execution_count": 48
        }
      ]
    },
    {
      "cell_type": "code",
      "source": [
        "y[1:5]"
      ],
      "metadata": {
        "colab": {
          "base_uri": "https://localhost:8080/"
        },
        "id": "04KwltRiFjUs",
        "outputId": "43108c4a-c0d5-4276-93f0-c4f159cf1d1e"
      },
      "execution_count": 50,
      "outputs": [
        {
          "output_type": "execute_result",
          "data": {
            "text/plain": [
              "Date\n",
              "2020-01-03    0.050172\n",
              "2020-01-04    0.008915\n",
              "2020-01-05    0.000089\n",
              "2020-01-06    0.047161\n",
              "Name: ret_btc, dtype: float64"
            ]
          },
          "metadata": {},
          "execution_count": 50
        }
      ]
    },
    {
      "cell_type": "code",
      "execution_count": 18,
      "metadata": {
        "scrolled": true,
        "id": "qzrc6h3rr6JN",
        "outputId": "58e4376c-00c7-4a08-de49-9555d28b2754",
        "colab": {
          "base_uri": "https://localhost:8080/"
        }
      },
      "outputs": [
        {
          "output_type": "stream",
          "name": "stdout",
          "text": [
            "0.0015026110264478017\n",
            "0.0015223818612785144\n"
          ]
        }
      ],
      "source": [
        "# out-of-sample MSE (mean of squared error)\n",
        "e1 = np.zeros(P) # AR(1) error\n",
        "e2 = np.zeros(P) # AR(2) error\n",
        "for i in range(1,P-1):\n",
        "    y = data.ret_btc[i:R+i]\n",
        "    x = sm.add_constant(data.ret_btc_1[i:R+i])\n",
        "    result_ar1 = sm.OLS(y,x,missing='drop').fit()\n",
        "    x = sm.add_constant(data[['ret_btc_1','ret_btc_2']][i:R+i])\n",
        "    result_ar2 = sm.OLS(y,x,missing='drop').fit()\n",
        "    fitted_ar1 = result_ar1.params[0] + result_ar1.params[1]*data.ret_btc_1[R+i]\n",
        "    fitted_ar2 = result_ar2.params[0] + result_ar2.params[1]*data.ret_btc_1[R+i] + result_ar2.params[2]*data.ret_btc_2[R+i]\n",
        "    e1[i] = data.ret_btc[R+i] - fitted_ar1\n",
        "    e2[i] = data.ret_btc[R+i] - fitted_ar2\n",
        "mse_ar1_oos = np.mean(e1**2)\n",
        "mse_ar2_oos = np.mean(e2**2)\n",
        "print(mse_ar1_oos)\n",
        "print(mse_ar2_oos)"
      ]
    },
    {
      "cell_type": "code",
      "execution_count": 19,
      "metadata": {
        "id": "SVMDNTtLr6JN",
        "outputId": "9cb30698-bbcc-42ed-ae2a-68d5ba5e22d0",
        "colab": {
          "base_uri": "https://localhost:8080/"
        }
      },
      "outputs": [
        {
          "output_type": "stream",
          "name": "stdout",
          "text": [
            "AR(1) out-of-sample MSE = 0.0015\n",
            "AR(2) out-of-sample MSE = 0.0015\n",
            "                            OLS Regression Results                            \n",
            "==============================================================================\n",
            "Dep. Variable:                      y   R-squared:                       0.000\n",
            "Model:                            OLS   Adj. R-squared:                  0.000\n",
            "Method:                 Least Squares   F-statistic:                       nan\n",
            "Date:                Tue, 30 Apr 2024   Prob (F-statistic):                nan\n",
            "Time:                        03:20:47   Log-Likelihood:                 3797.1\n",
            "No. Observations:                 531   AIC:                            -7592.\n",
            "Df Residuals:                     530   BIC:                            -7588.\n",
            "Df Model:                           0                                         \n",
            "Covariance Type:                  HAC                                         \n",
            "==============================================================================\n",
            "                 coef    std err          z      P>|z|      [0.025      0.975]\n",
            "------------------------------------------------------------------------------\n",
            "const      -1.977e-05   9.17e-06     -2.156      0.031   -3.77e-05    -1.8e-06\n",
            "==============================================================================\n",
            "Omnibus:                      348.971   Durbin-Watson:                   1.694\n",
            "Prob(Omnibus):                  0.000   Jarque-Bera (JB):            21960.861\n",
            "Skew:                          -2.124   Prob(JB):                         0.00\n",
            "Kurtosis:                      34.218   Cond. No.                         1.00\n",
            "==============================================================================\n",
            "\n",
            "Notes:\n",
            "[1] Standard Errors are heteroscedasticity and autocorrelation robust (HAC) using 2 lags and without small sample correction\n"
          ]
        }
      ],
      "source": [
        "print('AR(1) out-of-sample MSE = {:.4f}'.format(mse_ar1_oos))\n",
        "print('AR(2) out-of-sample MSE = {:.4f}'.format(mse_ar2_oos))\n",
        "y = e1**2 - e2**2\n",
        "x = np.ones(len(y))\n",
        "# 利用 Newey-West標準誤估計\n",
        "rr = sm.OLS(y,x,missing='drop').fit(cov_type='HAC',cov_kwds={'maxlags':2})\n",
        "print(rr.summary())"
      ]
    },
    {
      "cell_type": "markdown",
      "metadata": {
        "id": "-VeCjjSIr6JN"
      },
      "source": [
        "## 判斷模型好壞\n",
        "- MSE 直接比大小\n",
        "- 檢定: pvalue"
      ]
    },
    {
      "cell_type": "code",
      "execution_count": 20,
      "metadata": {
        "id": "2XZDL9Akr6JN",
        "outputId": "20c4d442-a560-4fec-b694-be29611b9187",
        "colab": {
          "base_uri": "https://localhost:8080/"
        }
      },
      "outputs": [
        {
          "output_type": "execute_result",
          "data": {
            "text/plain": [
              "array([0.031079])"
            ]
          },
          "metadata": {},
          "execution_count": 20
        }
      ],
      "source": [
        "rr.pvalues"
      ]
    },
    {
      "cell_type": "markdown",
      "source": [
        "## 範例練習\n",
        "- 更換資料頻率成月頻率\n",
        "  - 根據月頻率資料，建立樣本內AR(1)和AR(2)的模型\n",
        "  - 設定樣本內資料筆數=30\n",
        "  - 在AR(1)和AR(2)下，分別建立樣本外的MSE\n",
        "- 更換標的資產: `S&P500指數`\n",
        "- 如何匯出下載資料 `.to_csv()`\n"
      ],
      "metadata": {
        "id": "6_Kg_S6pn7i7"
      }
    },
    {
      "cell_type": "code",
      "execution_count": 63,
      "metadata": {
        "id": "KAh5efTpr6JN",
        "colab": {
          "base_uri": "https://localhost:8080/"
        },
        "outputId": "8f0eccda-5c02-4c99-922c-d7e014de1ed9"
      },
      "outputs": [
        {
          "output_type": "stream",
          "name": "stderr",
          "text": [
            "\r[*********************100%%**********************]  1 of 1 completed\n"
          ]
        }
      ],
      "source": [
        "# 重新獲取資料\n",
        "data = yf.download('BTC-USD',start = '2018-01-01',end='2024-01-01')\n",
        "data = data[['Adj Close']]\n",
        "data.columns = ['price_btc']\n",
        "data.index = pd.to_datetime(data.index)\n"
      ]
    },
    {
      "cell_type": "code",
      "source": [
        "# 變更成月頻率\n",
        "data_m = data.resample('M').last().copy()\n",
        "# 建立報酬率\n",
        "data_m['ret_btc'] = np.log(data_m.price_btc).diff()\n",
        "# 建立落後期\n",
        "data_m['ret_btc_1'] = data_m.ret_btc.shift()\n",
        "data_m['ret_btc_2'] = data_m.ret_btc.shift(2)"
      ],
      "metadata": {
        "id": "tMo9KoYiobOv"
      },
      "execution_count": 64,
      "outputs": []
    },
    {
      "cell_type": "code",
      "source": [
        "data_m.head()"
      ],
      "metadata": {
        "colab": {
          "base_uri": "https://localhost:8080/",
          "height": 238
        },
        "id": "430-pvEhoyS1",
        "outputId": "a1887162-7687-4e00-8bfe-c542db1eb54f"
      },
      "execution_count": 65,
      "outputs": [
        {
          "output_type": "execute_result",
          "data": {
            "text/plain": [
              "               price_btc   ret_btc  ret_btc_1  ret_btc_2\n",
              "Date                                                    \n",
              "2018-01-31  10221.099609       NaN        NaN        NaN\n",
              "2018-02-28  10397.900391  0.017150        NaN        NaN\n",
              "2018-03-31   6973.529785 -0.399482   0.017150        NaN\n",
              "2018-04-30   9240.549805  0.281480  -0.399482   0.017150\n",
              "2018-05-31   7494.169922 -0.209476   0.281480  -0.399482"
            ],
            "text/html": [
              "\n",
              "  <div id=\"df-d9df90fb-481e-4f1b-bf37-3316fd2578f6\" class=\"colab-df-container\">\n",
              "    <div>\n",
              "<style scoped>\n",
              "    .dataframe tbody tr th:only-of-type {\n",
              "        vertical-align: middle;\n",
              "    }\n",
              "\n",
              "    .dataframe tbody tr th {\n",
              "        vertical-align: top;\n",
              "    }\n",
              "\n",
              "    .dataframe thead th {\n",
              "        text-align: right;\n",
              "    }\n",
              "</style>\n",
              "<table border=\"1\" class=\"dataframe\">\n",
              "  <thead>\n",
              "    <tr style=\"text-align: right;\">\n",
              "      <th></th>\n",
              "      <th>price_btc</th>\n",
              "      <th>ret_btc</th>\n",
              "      <th>ret_btc_1</th>\n",
              "      <th>ret_btc_2</th>\n",
              "    </tr>\n",
              "    <tr>\n",
              "      <th>Date</th>\n",
              "      <th></th>\n",
              "      <th></th>\n",
              "      <th></th>\n",
              "      <th></th>\n",
              "    </tr>\n",
              "  </thead>\n",
              "  <tbody>\n",
              "    <tr>\n",
              "      <th>2018-01-31</th>\n",
              "      <td>10221.099609</td>\n",
              "      <td>NaN</td>\n",
              "      <td>NaN</td>\n",
              "      <td>NaN</td>\n",
              "    </tr>\n",
              "    <tr>\n",
              "      <th>2018-02-28</th>\n",
              "      <td>10397.900391</td>\n",
              "      <td>0.017150</td>\n",
              "      <td>NaN</td>\n",
              "      <td>NaN</td>\n",
              "    </tr>\n",
              "    <tr>\n",
              "      <th>2018-03-31</th>\n",
              "      <td>6973.529785</td>\n",
              "      <td>-0.399482</td>\n",
              "      <td>0.017150</td>\n",
              "      <td>NaN</td>\n",
              "    </tr>\n",
              "    <tr>\n",
              "      <th>2018-04-30</th>\n",
              "      <td>9240.549805</td>\n",
              "      <td>0.281480</td>\n",
              "      <td>-0.399482</td>\n",
              "      <td>0.017150</td>\n",
              "    </tr>\n",
              "    <tr>\n",
              "      <th>2018-05-31</th>\n",
              "      <td>7494.169922</td>\n",
              "      <td>-0.209476</td>\n",
              "      <td>0.281480</td>\n",
              "      <td>-0.399482</td>\n",
              "    </tr>\n",
              "  </tbody>\n",
              "</table>\n",
              "</div>\n",
              "    <div class=\"colab-df-buttons\">\n",
              "\n",
              "  <div class=\"colab-df-container\">\n",
              "    <button class=\"colab-df-convert\" onclick=\"convertToInteractive('df-d9df90fb-481e-4f1b-bf37-3316fd2578f6')\"\n",
              "            title=\"Convert this dataframe to an interactive table.\"\n",
              "            style=\"display:none;\">\n",
              "\n",
              "  <svg xmlns=\"http://www.w3.org/2000/svg\" height=\"24px\" viewBox=\"0 -960 960 960\">\n",
              "    <path d=\"M120-120v-720h720v720H120Zm60-500h600v-160H180v160Zm220 220h160v-160H400v160Zm0 220h160v-160H400v160ZM180-400h160v-160H180v160Zm440 0h160v-160H620v160ZM180-180h160v-160H180v160Zm440 0h160v-160H620v160Z\"/>\n",
              "  </svg>\n",
              "    </button>\n",
              "\n",
              "  <style>\n",
              "    .colab-df-container {\n",
              "      display:flex;\n",
              "      gap: 12px;\n",
              "    }\n",
              "\n",
              "    .colab-df-convert {\n",
              "      background-color: #E8F0FE;\n",
              "      border: none;\n",
              "      border-radius: 50%;\n",
              "      cursor: pointer;\n",
              "      display: none;\n",
              "      fill: #1967D2;\n",
              "      height: 32px;\n",
              "      padding: 0 0 0 0;\n",
              "      width: 32px;\n",
              "    }\n",
              "\n",
              "    .colab-df-convert:hover {\n",
              "      background-color: #E2EBFA;\n",
              "      box-shadow: 0px 1px 2px rgba(60, 64, 67, 0.3), 0px 1px 3px 1px rgba(60, 64, 67, 0.15);\n",
              "      fill: #174EA6;\n",
              "    }\n",
              "\n",
              "    .colab-df-buttons div {\n",
              "      margin-bottom: 4px;\n",
              "    }\n",
              "\n",
              "    [theme=dark] .colab-df-convert {\n",
              "      background-color: #3B4455;\n",
              "      fill: #D2E3FC;\n",
              "    }\n",
              "\n",
              "    [theme=dark] .colab-df-convert:hover {\n",
              "      background-color: #434B5C;\n",
              "      box-shadow: 0px 1px 3px 1px rgba(0, 0, 0, 0.15);\n",
              "      filter: drop-shadow(0px 1px 2px rgba(0, 0, 0, 0.3));\n",
              "      fill: #FFFFFF;\n",
              "    }\n",
              "  </style>\n",
              "\n",
              "    <script>\n",
              "      const buttonEl =\n",
              "        document.querySelector('#df-d9df90fb-481e-4f1b-bf37-3316fd2578f6 button.colab-df-convert');\n",
              "      buttonEl.style.display =\n",
              "        google.colab.kernel.accessAllowed ? 'block' : 'none';\n",
              "\n",
              "      async function convertToInteractive(key) {\n",
              "        const element = document.querySelector('#df-d9df90fb-481e-4f1b-bf37-3316fd2578f6');\n",
              "        const dataTable =\n",
              "          await google.colab.kernel.invokeFunction('convertToInteractive',\n",
              "                                                    [key], {});\n",
              "        if (!dataTable) return;\n",
              "\n",
              "        const docLinkHtml = 'Like what you see? Visit the ' +\n",
              "          '<a target=\"_blank\" href=https://colab.research.google.com/notebooks/data_table.ipynb>data table notebook</a>'\n",
              "          + ' to learn more about interactive tables.';\n",
              "        element.innerHTML = '';\n",
              "        dataTable['output_type'] = 'display_data';\n",
              "        await google.colab.output.renderOutput(dataTable, element);\n",
              "        const docLink = document.createElement('div');\n",
              "        docLink.innerHTML = docLinkHtml;\n",
              "        element.appendChild(docLink);\n",
              "      }\n",
              "    </script>\n",
              "  </div>\n",
              "\n",
              "\n",
              "<div id=\"df-1fdcc03a-2cf5-43ff-9486-803266ee80f8\">\n",
              "  <button class=\"colab-df-quickchart\" onclick=\"quickchart('df-1fdcc03a-2cf5-43ff-9486-803266ee80f8')\"\n",
              "            title=\"Suggest charts\"\n",
              "            style=\"display:none;\">\n",
              "\n",
              "<svg xmlns=\"http://www.w3.org/2000/svg\" height=\"24px\"viewBox=\"0 0 24 24\"\n",
              "     width=\"24px\">\n",
              "    <g>\n",
              "        <path d=\"M19 3H5c-1.1 0-2 .9-2 2v14c0 1.1.9 2 2 2h14c1.1 0 2-.9 2-2V5c0-1.1-.9-2-2-2zM9 17H7v-7h2v7zm4 0h-2V7h2v10zm4 0h-2v-4h2v4z\"/>\n",
              "    </g>\n",
              "</svg>\n",
              "  </button>\n",
              "\n",
              "<style>\n",
              "  .colab-df-quickchart {\n",
              "      --bg-color: #E8F0FE;\n",
              "      --fill-color: #1967D2;\n",
              "      --hover-bg-color: #E2EBFA;\n",
              "      --hover-fill-color: #174EA6;\n",
              "      --disabled-fill-color: #AAA;\n",
              "      --disabled-bg-color: #DDD;\n",
              "  }\n",
              "\n",
              "  [theme=dark] .colab-df-quickchart {\n",
              "      --bg-color: #3B4455;\n",
              "      --fill-color: #D2E3FC;\n",
              "      --hover-bg-color: #434B5C;\n",
              "      --hover-fill-color: #FFFFFF;\n",
              "      --disabled-bg-color: #3B4455;\n",
              "      --disabled-fill-color: #666;\n",
              "  }\n",
              "\n",
              "  .colab-df-quickchart {\n",
              "    background-color: var(--bg-color);\n",
              "    border: none;\n",
              "    border-radius: 50%;\n",
              "    cursor: pointer;\n",
              "    display: none;\n",
              "    fill: var(--fill-color);\n",
              "    height: 32px;\n",
              "    padding: 0;\n",
              "    width: 32px;\n",
              "  }\n",
              "\n",
              "  .colab-df-quickchart:hover {\n",
              "    background-color: var(--hover-bg-color);\n",
              "    box-shadow: 0 1px 2px rgba(60, 64, 67, 0.3), 0 1px 3px 1px rgba(60, 64, 67, 0.15);\n",
              "    fill: var(--button-hover-fill-color);\n",
              "  }\n",
              "\n",
              "  .colab-df-quickchart-complete:disabled,\n",
              "  .colab-df-quickchart-complete:disabled:hover {\n",
              "    background-color: var(--disabled-bg-color);\n",
              "    fill: var(--disabled-fill-color);\n",
              "    box-shadow: none;\n",
              "  }\n",
              "\n",
              "  .colab-df-spinner {\n",
              "    border: 2px solid var(--fill-color);\n",
              "    border-color: transparent;\n",
              "    border-bottom-color: var(--fill-color);\n",
              "    animation:\n",
              "      spin 1s steps(1) infinite;\n",
              "  }\n",
              "\n",
              "  @keyframes spin {\n",
              "    0% {\n",
              "      border-color: transparent;\n",
              "      border-bottom-color: var(--fill-color);\n",
              "      border-left-color: var(--fill-color);\n",
              "    }\n",
              "    20% {\n",
              "      border-color: transparent;\n",
              "      border-left-color: var(--fill-color);\n",
              "      border-top-color: var(--fill-color);\n",
              "    }\n",
              "    30% {\n",
              "      border-color: transparent;\n",
              "      border-left-color: var(--fill-color);\n",
              "      border-top-color: var(--fill-color);\n",
              "      border-right-color: var(--fill-color);\n",
              "    }\n",
              "    40% {\n",
              "      border-color: transparent;\n",
              "      border-right-color: var(--fill-color);\n",
              "      border-top-color: var(--fill-color);\n",
              "    }\n",
              "    60% {\n",
              "      border-color: transparent;\n",
              "      border-right-color: var(--fill-color);\n",
              "    }\n",
              "    80% {\n",
              "      border-color: transparent;\n",
              "      border-right-color: var(--fill-color);\n",
              "      border-bottom-color: var(--fill-color);\n",
              "    }\n",
              "    90% {\n",
              "      border-color: transparent;\n",
              "      border-bottom-color: var(--fill-color);\n",
              "    }\n",
              "  }\n",
              "</style>\n",
              "\n",
              "  <script>\n",
              "    async function quickchart(key) {\n",
              "      const quickchartButtonEl =\n",
              "        document.querySelector('#' + key + ' button');\n",
              "      quickchartButtonEl.disabled = true;  // To prevent multiple clicks.\n",
              "      quickchartButtonEl.classList.add('colab-df-spinner');\n",
              "      try {\n",
              "        const charts = await google.colab.kernel.invokeFunction(\n",
              "            'suggestCharts', [key], {});\n",
              "      } catch (error) {\n",
              "        console.error('Error during call to suggestCharts:', error);\n",
              "      }\n",
              "      quickchartButtonEl.classList.remove('colab-df-spinner');\n",
              "      quickchartButtonEl.classList.add('colab-df-quickchart-complete');\n",
              "    }\n",
              "    (() => {\n",
              "      let quickchartButtonEl =\n",
              "        document.querySelector('#df-1fdcc03a-2cf5-43ff-9486-803266ee80f8 button');\n",
              "      quickchartButtonEl.style.display =\n",
              "        google.colab.kernel.accessAllowed ? 'block' : 'none';\n",
              "    })();\n",
              "  </script>\n",
              "</div>\n",
              "\n",
              "    </div>\n",
              "  </div>\n"
            ],
            "application/vnd.google.colaboratory.intrinsic+json": {
              "type": "dataframe",
              "variable_name": "data_m",
              "summary": "{\n  \"name\": \"data_m\",\n  \"rows\": 72,\n  \"fields\": [\n    {\n      \"column\": \"Date\",\n      \"properties\": {\n        \"dtype\": \"date\",\n        \"min\": \"2018-01-31 00:00:00\",\n        \"max\": \"2023-12-31 00:00:00\",\n        \"num_unique_values\": 72,\n        \"samples\": [\n          \"2018-05-31 00:00:00\",\n          \"2023-03-31 00:00:00\",\n          \"2019-07-31 00:00:00\"\n        ],\n        \"semantic_type\": \"\",\n        \"description\": \"\"\n      }\n    },\n    {\n      \"column\": \"price_btc\",\n      \"properties\": {\n        \"dtype\": \"number\",\n        \"std\": 16027.674211966822,\n        \"min\": 3457.792724609375,\n        \"max\": 61318.95703125,\n        \"num_unique_values\": 72,\n        \"samples\": [\n          7494.169921875,\n          28478.484375,\n          10085.6279296875\n        ],\n        \"semantic_type\": \"\",\n        \"description\": \"\"\n      }\n    },\n    {\n      \"column\": \"ret_btc\",\n      \"properties\": {\n        \"dtype\": \"number\",\n        \"std\": 0.20471571573201244,\n        \"min\": -0.47431419954702925,\n        \"max\": 0.47156055233512895,\n        \"num_unique_values\": 71,\n        \"samples\": [\n          -0.05095255396872567,\n          0.01714972738881393,\n          0.052878110771871434\n        ],\n        \"semantic_type\": \"\",\n        \"description\": \"\"\n      }\n    },\n    {\n      \"column\": \"ret_btc_1\",\n      \"properties\": {\n        \"dtype\": \"number\",\n        \"std\": 0.20587880587134058,\n        \"min\": -0.47431419954702925,\n        \"max\": 0.47156055233512895,\n        \"num_unique_values\": 70,\n        \"samples\": [\n          -0.05095255396872567,\n          0.01714972738881393,\n          0.052878110771871434\n        ],\n        \"semantic_type\": \"\",\n        \"description\": \"\"\n      }\n    },\n    {\n      \"column\": \"ret_btc_2\",\n      \"properties\": {\n        \"dtype\": \"number\",\n        \"std\": 0.2072325489389422,\n        \"min\": -0.47431419954702925,\n        \"max\": 0.47156055233512895,\n        \"num_unique_values\": 69,\n        \"samples\": [\n          -0.05095255396872567,\n          0.01714972738881393,\n          -0.18506132549831733\n        ],\n        \"semantic_type\": \"\",\n        \"description\": \"\"\n      }\n    }\n  ]\n}"
            }
          },
          "metadata": {},
          "execution_count": 65
        }
      ]
    },
    {
      "cell_type": "code",
      "source": [
        "data_m.info()"
      ],
      "metadata": {
        "id": "-CgNJYtcqWVA",
        "colab": {
          "base_uri": "https://localhost:8080/"
        },
        "outputId": "05dd7404-1f1b-4cd9-ef1c-238a803cda6e"
      },
      "execution_count": 66,
      "outputs": [
        {
          "output_type": "stream",
          "name": "stdout",
          "text": [
            "<class 'pandas.core.frame.DataFrame'>\n",
            "DatetimeIndex: 72 entries, 2018-01-31 to 2023-12-31\n",
            "Freq: M\n",
            "Data columns (total 4 columns):\n",
            " #   Column     Non-Null Count  Dtype  \n",
            "---  ------     --------------  -----  \n",
            " 0   price_btc  72 non-null     float64\n",
            " 1   ret_btc    71 non-null     float64\n",
            " 2   ret_btc_1  70 non-null     float64\n",
            " 3   ret_btc_2  69 non-null     float64\n",
            "dtypes: float64(4)\n",
            "memory usage: 2.8 KB\n"
          ]
        }
      ]
    },
    {
      "cell_type": "code",
      "source": [
        "# 樣本內估計\n",
        "#AR(1)\n",
        "y = data_m.ret_btc\n",
        "x = sm.add_constant(data_m.ret_btc_1)\n",
        "result_ar1 = sm.OLS(y,x,missing='drop').fit()\n",
        "print(result_ar1.summary())\n"
      ],
      "metadata": {
        "colab": {
          "base_uri": "https://localhost:8080/"
        },
        "id": "hquNwkCJDrVv",
        "outputId": "e064e597-d72a-444d-db49-28d4339867ad"
      },
      "execution_count": 67,
      "outputs": [
        {
          "output_type": "stream",
          "name": "stdout",
          "text": [
            "                            OLS Regression Results                            \n",
            "==============================================================================\n",
            "Dep. Variable:                ret_btc   R-squared:                       0.019\n",
            "Model:                            OLS   Adj. R-squared:                  0.005\n",
            "Method:                 Least Squares   F-statistic:                     1.348\n",
            "Date:                Tue, 30 Apr 2024   Prob (F-statistic):              0.250\n",
            "Time:                        03:57:12   Log-Likelihood:                 12.391\n",
            "No. Observations:                  70   AIC:                            -20.78\n",
            "Df Residuals:                      68   BIC:                            -16.28\n",
            "Df Model:                           1                                         \n",
            "Covariance Type:            nonrobust                                         \n",
            "==============================================================================\n",
            "                 coef    std err          t      P>|t|      [0.025      0.975]\n",
            "------------------------------------------------------------------------------\n",
            "const          0.0174      0.025      0.706      0.483      -0.032       0.067\n",
            "ret_btc_1      0.1396      0.120      1.161      0.250      -0.100       0.380\n",
            "==============================================================================\n",
            "Omnibus:                        0.463   Durbin-Watson:                   1.937\n",
            "Prob(Omnibus):                  0.793   Jarque-Bera (JB):                0.607\n",
            "Skew:                          -0.159   Prob(JB):                        0.738\n",
            "Kurtosis:                       2.674   Cond. No.                         4.89\n",
            "==============================================================================\n",
            "\n",
            "Notes:\n",
            "[1] Standard Errors assume that the covariance matrix of the errors is correctly specified.\n"
          ]
        }
      ]
    },
    {
      "cell_type": "code",
      "source": [
        "# 樣本內估計\n",
        "#AR(2)\n",
        "y = data_m.ret_btc\n",
        "x = sm.add_constant(data_m[['ret_btc_1','ret_btc_2']])\n",
        "result_ar2 = sm.OLS(y,x,missing='drop').fit()\n",
        "print(result_ar2.summary())"
      ],
      "metadata": {
        "colab": {
          "base_uri": "https://localhost:8080/"
        },
        "id": "VJ5D3yh-G1Nz",
        "outputId": "b8e413c7-ed05-4875-efd9-ccc79569e3d5"
      },
      "execution_count": 68,
      "outputs": [
        {
          "output_type": "stream",
          "name": "stdout",
          "text": [
            "                            OLS Regression Results                            \n",
            "==============================================================================\n",
            "Dep. Variable:                ret_btc   R-squared:                       0.021\n",
            "Model:                            OLS   Adj. R-squared:                 -0.009\n",
            "Method:                 Least Squares   F-statistic:                    0.6953\n",
            "Date:                Tue, 30 Apr 2024   Prob (F-statistic):              0.503\n",
            "Time:                        03:58:59   Log-Likelihood:                 13.926\n",
            "No. Observations:                  69   AIC:                            -21.85\n",
            "Df Residuals:                      66   BIC:                            -15.15\n",
            "Df Model:                           2                                         \n",
            "Covariance Type:            nonrobust                                         \n",
            "==============================================================================\n",
            "                 coef    std err          t      P>|t|      [0.025      0.975]\n",
            "------------------------------------------------------------------------------\n",
            "const          0.0235      0.025      0.959      0.341      -0.025       0.072\n",
            "ret_btc_1      0.1394      0.119      1.168      0.247      -0.099       0.378\n",
            "ret_btc_2      0.0001      0.119      0.001      0.999      -0.238       0.239\n",
            "==============================================================================\n",
            "Omnibus:                        0.280   Durbin-Watson:                   1.862\n",
            "Prob(Omnibus):                  0.870   Jarque-Bera (JB):                0.427\n",
            "Skew:                          -0.128   Prob(JB):                        0.808\n",
            "Kurtosis:                       2.713   Cond. No.                         5.23\n",
            "==============================================================================\n",
            "\n",
            "Notes:\n",
            "[1] Standard Errors assume that the covariance matrix of the errors is correctly specified.\n"
          ]
        }
      ]
    },
    {
      "cell_type": "code",
      "source": [
        "R = 30 # the number in the sample to construct the model\n",
        "P = len(data_m) - R # the number (out-of-sample) to check the performance of the model\n",
        "print(R,P)"
      ],
      "metadata": {
        "colab": {
          "base_uri": "https://localhost:8080/"
        },
        "id": "eIIRVpQhIUlT",
        "outputId": "198f2456-ed60-4e62-86ea-d362d5971238"
      },
      "execution_count": 69,
      "outputs": [
        {
          "output_type": "stream",
          "name": "stdout",
          "text": [
            "30 42\n"
          ]
        }
      ]
    },
    {
      "cell_type": "code",
      "source": [
        "# out-of-sample MSE (mean of squared error)\n",
        "e1 = np.zeros(P) # AR(1) error\n",
        "e2 = np.zeros(P) # AR(2) error\n",
        "for i in range(1,P-1):\n",
        "    y = data_m.ret_btc[i:R+i]\n",
        "    x = sm.add_constant(data_m.ret_btc_1[i:R+i])\n",
        "    result_ar1 = sm.OLS(y,x,missing='drop').fit()\n",
        "    x = sm.add_constant(data_m[['ret_btc_1','ret_btc_2']][i:R+i])\n",
        "    result_ar2 = sm.OLS(y,x,missing='drop').fit()\n",
        "    fitted_ar1 = result_ar1.params[0] + result_ar1.params[1]*data_m.ret_btc_1[R+i]\n",
        "    fitted_ar2 = result_ar2.params[0] + result_ar2.params[1]*data_m.ret_btc_1[R+i] + result_ar2.params[2]*data_m.ret_btc_2[R+i]\n",
        "    e1[i] = data_m.ret_btc[R+i] - fitted_ar1\n",
        "    e2[i] = data_m.ret_btc[R+i] - fitted_ar2\n",
        "mse_ar1_oos = np.mean(e1**2)\n",
        "mse_ar2_oos = np.mean(e2**2)\n",
        "print('AR(1) out-of-sample MSE = {:.4f}'.format(mse_ar1_oos))\n",
        "print('AR(2) out-of-sample MSE = {:.4f}'.format(mse_ar2_oos))"
      ],
      "metadata": {
        "colab": {
          "base_uri": "https://localhost:8080/"
        },
        "id": "6AYhfDLGHAws",
        "outputId": "6fdb0690-7bc4-4c7b-8147-9ae659e1beba"
      },
      "execution_count": 70,
      "outputs": [
        {
          "output_type": "stream",
          "name": "stdout",
          "text": [
            "AR(1) out-of-sample MSE = 0.0393\n",
            "AR(2) out-of-sample MSE = 0.0419\n"
          ]
        }
      ]
    },
    {
      "cell_type": "code",
      "source": [
        "y = e1**2 - e2**2\n",
        "x = np.ones(len(y))\n",
        "# 利用 Newey-West標準誤估計\n",
        "rr = sm.OLS(y,x,missing='drop').fit(cov_type='HAC',cov_kwds={'maxlags':2})\n",
        "print(rr.summary())"
      ],
      "metadata": {
        "colab": {
          "base_uri": "https://localhost:8080/"
        },
        "id": "FmdFhnheIWlK",
        "outputId": "ec42c992-3cf1-46ee-e025-301d87ca28a3"
      },
      "execution_count": 71,
      "outputs": [
        {
          "output_type": "stream",
          "name": "stdout",
          "text": [
            "                            OLS Regression Results                            \n",
            "==============================================================================\n",
            "Dep. Variable:                      y   R-squared:                       0.000\n",
            "Model:                            OLS   Adj. R-squared:                  0.000\n",
            "Method:                 Least Squares   F-statistic:                       nan\n",
            "Date:                Tue, 30 Apr 2024   Prob (F-statistic):                nan\n",
            "Time:                        04:14:46   Log-Likelihood:                 119.93\n",
            "No. Observations:                  42   AIC:                            -237.9\n",
            "Df Residuals:                      41   BIC:                            -236.1\n",
            "Df Model:                           0                                         \n",
            "Covariance Type:                  HAC                                         \n",
            "==============================================================================\n",
            "                 coef    std err          z      P>|z|      [0.025      0.975]\n",
            "------------------------------------------------------------------------------\n",
            "const         -0.0025      0.002     -1.314      0.189      -0.006       0.001\n",
            "==============================================================================\n",
            "Omnibus:                       37.984   Durbin-Watson:                   2.587\n",
            "Prob(Omnibus):                  0.000   Jarque-Bera (JB):              113.688\n",
            "Skew:                          -2.295   Prob(JB):                     2.06e-25\n",
            "Kurtosis:                       9.626   Cond. No.                         1.00\n",
            "==============================================================================\n",
            "\n",
            "Notes:\n",
            "[1] Standard Errors are heteroscedasticity and autocorrelation robust (HAC) using 2 lags and without small sample correction\n"
          ]
        }
      ]
    },
    {
      "cell_type": "code",
      "source": [],
      "metadata": {
        "id": "23QJizqyIlP_"
      },
      "execution_count": null,
      "outputs": []
    }
  ],
  "metadata": {
    "kernelspec": {
      "display_name": "Python 3",
      "language": "python",
      "name": "python3"
    },
    "language_info": {
      "codemirror_mode": {
        "name": "ipython",
        "version": 3
      },
      "file_extension": ".py",
      "mimetype": "text/x-python",
      "name": "python",
      "nbconvert_exporter": "python",
      "pygments_lexer": "ipython3",
      "version": "3.8.3"
    },
    "varInspector": {
      "cols": {
        "lenName": 16,
        "lenType": 16,
        "lenVar": 40
      },
      "kernels_config": {
        "python": {
          "delete_cmd_postfix": "",
          "delete_cmd_prefix": "del ",
          "library": "var_list.py",
          "varRefreshCmd": "print(var_dic_list())"
        },
        "r": {
          "delete_cmd_postfix": ") ",
          "delete_cmd_prefix": "rm(",
          "library": "var_list.r",
          "varRefreshCmd": "cat(var_dic_list()) "
        }
      },
      "types_to_exclude": [
        "module",
        "function",
        "builtin_function_or_method",
        "instance",
        "_Feature"
      ],
      "window_display": false
    },
    "colab": {
      "provenance": [],
      "include_colab_link": true
    }
  },
  "nbformat": 4,
  "nbformat_minor": 0
}